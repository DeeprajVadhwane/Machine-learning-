{
 "cells": [
  {
   "cell_type": "code",
   "execution_count": 1,
   "id": "0dbbe2a7",
   "metadata": {
    "execution": {
     "iopub.execute_input": "2022-07-21T17:11:01.254501Z",
     "iopub.status.busy": "2022-07-21T17:11:01.253935Z",
     "iopub.status.idle": "2022-07-21T17:11:02.600115Z",
     "shell.execute_reply": "2022-07-21T17:11:02.599258Z"
    },
    "papermill": {
     "duration": 1.402732,
     "end_time": "2022-07-21T17:11:02.602582",
     "exception": false,
     "start_time": "2022-07-21T17:11:01.199850",
     "status": "completed"
    },
    "tags": []
   },
   "outputs": [],
   "source": [
    "import numpy as np \n",
    "import pandas as pd \n",
    "import seaborn as sns\n",
    "import matplotlib.pyplot as plt\n",
    "import pandas as pd\n",
    "from sklearn.linear_model import LinearRegression\n",
    "from sklearn.model_selection import train_test_split\n",
    "from sklearn.preprocessing import PolynomialFeatures\n",
    "from sklearn.tree import DecisionTreeRegressor"
   ]
  },
  {
   "cell_type": "markdown",
   "id": "6e8eab5a",
   "metadata": {
    "papermill": {
     "duration": 0.041592,
     "end_time": "2022-07-21T17:11:02.687987",
     "exception": false,
     "start_time": "2022-07-21T17:11:02.646395",
     "status": "completed"
    },
    "tags": []
   },
   "source": [
    "# Data Acquring"
   ]
  },
  {
   "cell_type": "code",
   "execution_count": 2,
   "id": "04a68011",
   "metadata": {
    "execution": {
     "iopub.execute_input": "2022-07-21T17:11:02.773254Z",
     "iopub.status.busy": "2022-07-21T17:11:02.772750Z",
     "iopub.status.idle": "2022-07-21T17:11:02.794118Z",
     "shell.execute_reply": "2022-07-21T17:11:02.793511Z"
    },
    "papermill": {
     "duration": 0.066397,
     "end_time": "2022-07-21T17:11:02.796001",
     "exception": false,
     "start_time": "2022-07-21T17:11:02.729604",
     "status": "completed"
    },
    "tags": []
   },
   "outputs": [],
   "source": [
    "df=pd.read_csv(\"../input/motorcycle-dataset/BIKE DETAILS.csv\")"
   ]
  },
  {
   "cell_type": "code",
   "execution_count": 3,
   "id": "8304899e",
   "metadata": {
    "execution": {
     "iopub.execute_input": "2022-07-21T17:11:02.881685Z",
     "iopub.status.busy": "2022-07-21T17:11:02.881161Z",
     "iopub.status.idle": "2022-07-21T17:11:02.906750Z",
     "shell.execute_reply": "2022-07-21T17:11:02.906223Z"
    },
    "papermill": {
     "duration": 0.071057,
     "end_time": "2022-07-21T17:11:02.908848",
     "exception": false,
     "start_time": "2022-07-21T17:11:02.837791",
     "status": "completed"
    },
    "tags": []
   },
   "outputs": [
    {
     "data": {
      "text/html": [
       "<div>\n",
       "<style scoped>\n",
       "    .dataframe tbody tr th:only-of-type {\n",
       "        vertical-align: middle;\n",
       "    }\n",
       "\n",
       "    .dataframe tbody tr th {\n",
       "        vertical-align: top;\n",
       "    }\n",
       "\n",
       "    .dataframe thead th {\n",
       "        text-align: right;\n",
       "    }\n",
       "</style>\n",
       "<table border=\"1\" class=\"dataframe\">\n",
       "  <thead>\n",
       "    <tr style=\"text-align: right;\">\n",
       "      <th></th>\n",
       "      <th>name</th>\n",
       "      <th>selling_price</th>\n",
       "      <th>year</th>\n",
       "      <th>seller_type</th>\n",
       "      <th>owner</th>\n",
       "      <th>km_driven</th>\n",
       "      <th>ex_showroom_price</th>\n",
       "    </tr>\n",
       "  </thead>\n",
       "  <tbody>\n",
       "    <tr>\n",
       "      <th>0</th>\n",
       "      <td>Royal Enfield Classic 350</td>\n",
       "      <td>175000</td>\n",
       "      <td>2019</td>\n",
       "      <td>Individual</td>\n",
       "      <td>1st owner</td>\n",
       "      <td>350</td>\n",
       "      <td>NaN</td>\n",
       "    </tr>\n",
       "    <tr>\n",
       "      <th>1</th>\n",
       "      <td>Honda Dio</td>\n",
       "      <td>45000</td>\n",
       "      <td>2017</td>\n",
       "      <td>Individual</td>\n",
       "      <td>1st owner</td>\n",
       "      <td>5650</td>\n",
       "      <td>NaN</td>\n",
       "    </tr>\n",
       "    <tr>\n",
       "      <th>2</th>\n",
       "      <td>Royal Enfield Classic Gunmetal Grey</td>\n",
       "      <td>150000</td>\n",
       "      <td>2018</td>\n",
       "      <td>Individual</td>\n",
       "      <td>1st owner</td>\n",
       "      <td>12000</td>\n",
       "      <td>148114.0</td>\n",
       "    </tr>\n",
       "    <tr>\n",
       "      <th>3</th>\n",
       "      <td>Yamaha Fazer FI V 2.0 [2016-2018]</td>\n",
       "      <td>65000</td>\n",
       "      <td>2015</td>\n",
       "      <td>Individual</td>\n",
       "      <td>1st owner</td>\n",
       "      <td>23000</td>\n",
       "      <td>89643.0</td>\n",
       "    </tr>\n",
       "    <tr>\n",
       "      <th>4</th>\n",
       "      <td>Yamaha SZ [2013-2014]</td>\n",
       "      <td>20000</td>\n",
       "      <td>2011</td>\n",
       "      <td>Individual</td>\n",
       "      <td>2nd owner</td>\n",
       "      <td>21000</td>\n",
       "      <td>NaN</td>\n",
       "    </tr>\n",
       "    <tr>\n",
       "      <th>...</th>\n",
       "      <td>...</td>\n",
       "      <td>...</td>\n",
       "      <td>...</td>\n",
       "      <td>...</td>\n",
       "      <td>...</td>\n",
       "      <td>...</td>\n",
       "      <td>...</td>\n",
       "    </tr>\n",
       "    <tr>\n",
       "      <th>1056</th>\n",
       "      <td>Activa 3g</td>\n",
       "      <td>17000</td>\n",
       "      <td>2010</td>\n",
       "      <td>Individual</td>\n",
       "      <td>1st owner</td>\n",
       "      <td>500000</td>\n",
       "      <td>52000.0</td>\n",
       "    </tr>\n",
       "    <tr>\n",
       "      <th>1057</th>\n",
       "      <td>Honda CB twister</td>\n",
       "      <td>16000</td>\n",
       "      <td>2012</td>\n",
       "      <td>Individual</td>\n",
       "      <td>1st owner</td>\n",
       "      <td>33000</td>\n",
       "      <td>51000.0</td>\n",
       "    </tr>\n",
       "    <tr>\n",
       "      <th>1058</th>\n",
       "      <td>Bajaj Discover 125</td>\n",
       "      <td>15000</td>\n",
       "      <td>2013</td>\n",
       "      <td>Individual</td>\n",
       "      <td>2nd owner</td>\n",
       "      <td>35000</td>\n",
       "      <td>57000.0</td>\n",
       "    </tr>\n",
       "    <tr>\n",
       "      <th>1059</th>\n",
       "      <td>Honda CB Shine</td>\n",
       "      <td>12000</td>\n",
       "      <td>2009</td>\n",
       "      <td>Individual</td>\n",
       "      <td>1st owner</td>\n",
       "      <td>53000</td>\n",
       "      <td>58000.0</td>\n",
       "    </tr>\n",
       "    <tr>\n",
       "      <th>1060</th>\n",
       "      <td>Bajaj Pulsar 150</td>\n",
       "      <td>10000</td>\n",
       "      <td>2008</td>\n",
       "      <td>Individual</td>\n",
       "      <td>1st owner</td>\n",
       "      <td>92233</td>\n",
       "      <td>75000.0</td>\n",
       "    </tr>\n",
       "  </tbody>\n",
       "</table>\n",
       "<p>1061 rows × 7 columns</p>\n",
       "</div>"
      ],
      "text/plain": [
       "                                     name  selling_price  year seller_type  \\\n",
       "0               Royal Enfield Classic 350         175000  2019  Individual   \n",
       "1                               Honda Dio          45000  2017  Individual   \n",
       "2     Royal Enfield Classic Gunmetal Grey         150000  2018  Individual   \n",
       "3       Yamaha Fazer FI V 2.0 [2016-2018]          65000  2015  Individual   \n",
       "4                   Yamaha SZ [2013-2014]          20000  2011  Individual   \n",
       "...                                   ...            ...   ...         ...   \n",
       "1056                            Activa 3g          17000  2010  Individual   \n",
       "1057                     Honda CB twister          16000  2012  Individual   \n",
       "1058                   Bajaj Discover 125          15000  2013  Individual   \n",
       "1059                       Honda CB Shine          12000  2009  Individual   \n",
       "1060                     Bajaj Pulsar 150          10000  2008  Individual   \n",
       "\n",
       "          owner  km_driven  ex_showroom_price  \n",
       "0     1st owner        350                NaN  \n",
       "1     1st owner       5650                NaN  \n",
       "2     1st owner      12000           148114.0  \n",
       "3     1st owner      23000            89643.0  \n",
       "4     2nd owner      21000                NaN  \n",
       "...         ...        ...                ...  \n",
       "1056  1st owner     500000            52000.0  \n",
       "1057  1st owner      33000            51000.0  \n",
       "1058  2nd owner      35000            57000.0  \n",
       "1059  1st owner      53000            58000.0  \n",
       "1060  1st owner      92233            75000.0  \n",
       "\n",
       "[1061 rows x 7 columns]"
      ]
     },
     "execution_count": 3,
     "metadata": {},
     "output_type": "execute_result"
    }
   ],
   "source": [
    "df"
   ]
  },
  {
   "cell_type": "code",
   "execution_count": 4,
   "id": "0fcde954",
   "metadata": {
    "execution": {
     "iopub.execute_input": "2022-07-21T17:11:02.996112Z",
     "iopub.status.busy": "2022-07-21T17:11:02.995708Z",
     "iopub.status.idle": "2022-07-21T17:11:03.002519Z",
     "shell.execute_reply": "2022-07-21T17:11:03.001933Z"
    },
    "papermill": {
     "duration": 0.052105,
     "end_time": "2022-07-21T17:11:03.004109",
     "exception": false,
     "start_time": "2022-07-21T17:11:02.952004",
     "status": "completed"
    },
    "tags": []
   },
   "outputs": [
    {
     "data": {
      "text/plain": [
       "name                   0\n",
       "selling_price          0\n",
       "year                   0\n",
       "seller_type            0\n",
       "owner                  0\n",
       "km_driven              0\n",
       "ex_showroom_price    435\n",
       "dtype: int64"
      ]
     },
     "execution_count": 4,
     "metadata": {},
     "output_type": "execute_result"
    }
   ],
   "source": [
    "df.isnull().sum()"
   ]
  },
  {
   "cell_type": "code",
   "execution_count": 5,
   "id": "8db344f5",
   "metadata": {
    "execution": {
     "iopub.execute_input": "2022-07-21T17:11:03.092015Z",
     "iopub.status.busy": "2022-07-21T17:11:03.091585Z",
     "iopub.status.idle": "2022-07-21T17:11:03.118187Z",
     "shell.execute_reply": "2022-07-21T17:11:03.117635Z"
    },
    "papermill": {
     "duration": 0.072308,
     "end_time": "2022-07-21T17:11:03.119837",
     "exception": false,
     "start_time": "2022-07-21T17:11:03.047529",
     "status": "completed"
    },
    "tags": []
   },
   "outputs": [
    {
     "data": {
      "text/html": [
       "<div>\n",
       "<style scoped>\n",
       "    .dataframe tbody tr th:only-of-type {\n",
       "        vertical-align: middle;\n",
       "    }\n",
       "\n",
       "    .dataframe tbody tr th {\n",
       "        vertical-align: top;\n",
       "    }\n",
       "\n",
       "    .dataframe thead th {\n",
       "        text-align: right;\n",
       "    }\n",
       "</style>\n",
       "<table border=\"1\" class=\"dataframe\">\n",
       "  <thead>\n",
       "    <tr style=\"text-align: right;\">\n",
       "      <th></th>\n",
       "      <th>selling_price</th>\n",
       "      <th>year</th>\n",
       "      <th>km_driven</th>\n",
       "      <th>ex_showroom_price</th>\n",
       "    </tr>\n",
       "  </thead>\n",
       "  <tbody>\n",
       "    <tr>\n",
       "      <th>count</th>\n",
       "      <td>1061.000000</td>\n",
       "      <td>1061.000000</td>\n",
       "      <td>1061.000000</td>\n",
       "      <td>6.260000e+02</td>\n",
       "    </tr>\n",
       "    <tr>\n",
       "      <th>mean</th>\n",
       "      <td>59638.151744</td>\n",
       "      <td>2013.867107</td>\n",
       "      <td>34359.833176</td>\n",
       "      <td>8.795871e+04</td>\n",
       "    </tr>\n",
       "    <tr>\n",
       "      <th>std</th>\n",
       "      <td>56304.291973</td>\n",
       "      <td>4.301191</td>\n",
       "      <td>51623.152702</td>\n",
       "      <td>7.749659e+04</td>\n",
       "    </tr>\n",
       "    <tr>\n",
       "      <th>min</th>\n",
       "      <td>5000.000000</td>\n",
       "      <td>1988.000000</td>\n",
       "      <td>350.000000</td>\n",
       "      <td>3.049000e+04</td>\n",
       "    </tr>\n",
       "    <tr>\n",
       "      <th>25%</th>\n",
       "      <td>28000.000000</td>\n",
       "      <td>2011.000000</td>\n",
       "      <td>13500.000000</td>\n",
       "      <td>5.485200e+04</td>\n",
       "    </tr>\n",
       "    <tr>\n",
       "      <th>50%</th>\n",
       "      <td>45000.000000</td>\n",
       "      <td>2015.000000</td>\n",
       "      <td>25000.000000</td>\n",
       "      <td>7.275250e+04</td>\n",
       "    </tr>\n",
       "    <tr>\n",
       "      <th>75%</th>\n",
       "      <td>70000.000000</td>\n",
       "      <td>2017.000000</td>\n",
       "      <td>43000.000000</td>\n",
       "      <td>8.703150e+04</td>\n",
       "    </tr>\n",
       "    <tr>\n",
       "      <th>max</th>\n",
       "      <td>760000.000000</td>\n",
       "      <td>2020.000000</td>\n",
       "      <td>880000.000000</td>\n",
       "      <td>1.278000e+06</td>\n",
       "    </tr>\n",
       "  </tbody>\n",
       "</table>\n",
       "</div>"
      ],
      "text/plain": [
       "       selling_price         year      km_driven  ex_showroom_price\n",
       "count    1061.000000  1061.000000    1061.000000       6.260000e+02\n",
       "mean    59638.151744  2013.867107   34359.833176       8.795871e+04\n",
       "std     56304.291973     4.301191   51623.152702       7.749659e+04\n",
       "min      5000.000000  1988.000000     350.000000       3.049000e+04\n",
       "25%     28000.000000  2011.000000   13500.000000       5.485200e+04\n",
       "50%     45000.000000  2015.000000   25000.000000       7.275250e+04\n",
       "75%     70000.000000  2017.000000   43000.000000       8.703150e+04\n",
       "max    760000.000000  2020.000000  880000.000000       1.278000e+06"
      ]
     },
     "execution_count": 5,
     "metadata": {},
     "output_type": "execute_result"
    }
   ],
   "source": [
    "df.describe()"
   ]
  },
  {
   "cell_type": "code",
   "execution_count": 6,
   "id": "ee0b4d60",
   "metadata": {
    "execution": {
     "iopub.execute_input": "2022-07-21T17:11:03.217759Z",
     "iopub.status.busy": "2022-07-21T17:11:03.217132Z",
     "iopub.status.idle": "2022-07-21T17:11:03.237090Z",
     "shell.execute_reply": "2022-07-21T17:11:03.236316Z"
    },
    "papermill": {
     "duration": 0.075882,
     "end_time": "2022-07-21T17:11:03.239505",
     "exception": false,
     "start_time": "2022-07-21T17:11:03.163623",
     "status": "completed"
    },
    "tags": []
   },
   "outputs": [
    {
     "name": "stdout",
     "output_type": "stream",
     "text": [
      "<class 'pandas.core.frame.DataFrame'>\n",
      "RangeIndex: 1061 entries, 0 to 1060\n",
      "Data columns (total 7 columns):\n",
      " #   Column             Non-Null Count  Dtype  \n",
      "---  ------             --------------  -----  \n",
      " 0   name               1061 non-null   object \n",
      " 1   selling_price      1061 non-null   int64  \n",
      " 2   year               1061 non-null   int64  \n",
      " 3   seller_type        1061 non-null   object \n",
      " 4   owner              1061 non-null   object \n",
      " 5   km_driven          1061 non-null   int64  \n",
      " 6   ex_showroom_price  626 non-null    float64\n",
      "dtypes: float64(1), int64(3), object(3)\n",
      "memory usage: 58.1+ KB\n"
     ]
    }
   ],
   "source": [
    "df.info()"
   ]
  },
  {
   "cell_type": "markdown",
   "id": "d87b5b9f",
   "metadata": {
    "papermill": {
     "duration": 0.04599,
     "end_time": "2022-07-21T17:11:03.337008",
     "exception": false,
     "start_time": "2022-07-21T17:11:03.291018",
     "status": "completed"
    },
    "tags": []
   },
   "source": [
    "# Data Cleaning\n",
    "**** Handling the Missing values"
   ]
  },
  {
   "cell_type": "code",
   "execution_count": 7,
   "id": "a59cf934",
   "metadata": {
    "execution": {
     "iopub.execute_input": "2022-07-21T17:11:03.426826Z",
     "iopub.status.busy": "2022-07-21T17:11:03.426304Z",
     "iopub.status.idle": "2022-07-21T17:11:03.432763Z",
     "shell.execute_reply": "2022-07-21T17:11:03.431935Z"
    },
    "papermill": {
     "duration": 0.053979,
     "end_time": "2022-07-21T17:11:03.434600",
     "exception": false,
     "start_time": "2022-07-21T17:11:03.380621",
     "status": "completed"
    },
    "tags": []
   },
   "outputs": [
    {
     "data": {
      "text/plain": [
       "435"
      ]
     },
     "execution_count": 7,
     "metadata": {},
     "output_type": "execute_result"
    }
   ],
   "source": [
    "df['ex_showroom_price'].isnull().sum()"
   ]
  },
  {
   "cell_type": "code",
   "execution_count": 8,
   "id": "ede4b6c9",
   "metadata": {
    "execution": {
     "iopub.execute_input": "2022-07-21T17:11:03.524663Z",
     "iopub.status.busy": "2022-07-21T17:11:03.524407Z",
     "iopub.status.idle": "2022-07-21T17:11:03.533289Z",
     "shell.execute_reply": "2022-07-21T17:11:03.532465Z"
    },
    "papermill": {
     "duration": 0.056081,
     "end_time": "2022-07-21T17:11:03.535094",
     "exception": false,
     "start_time": "2022-07-21T17:11:03.479013",
     "status": "completed"
    },
    "tags": []
   },
   "outputs": [
    {
     "data": {
      "text/plain": [
       "0        72752.5\n",
       "1        72752.5\n",
       "2       148114.0\n",
       "3        89643.0\n",
       "4        72752.5\n",
       "          ...   \n",
       "1056     52000.0\n",
       "1057     51000.0\n",
       "1058     57000.0\n",
       "1059     58000.0\n",
       "1060     75000.0\n",
       "Name: ex_showroom_price, Length: 1061, dtype: float64"
      ]
     },
     "execution_count": 8,
     "metadata": {},
     "output_type": "execute_result"
    }
   ],
   "source": [
    "df['ex_showroom_price'].fillna(np.round(df['ex_showroom_price'].median(),2),inplace=True)\n",
    "df['ex_showroom_price']"
   ]
  },
  {
   "cell_type": "code",
   "execution_count": 9,
   "id": "25fa894c",
   "metadata": {
    "execution": {
     "iopub.execute_input": "2022-07-21T17:11:03.626310Z",
     "iopub.status.busy": "2022-07-21T17:11:03.626028Z",
     "iopub.status.idle": "2022-07-21T17:11:03.632845Z",
     "shell.execute_reply": "2022-07-21T17:11:03.632225Z"
    },
    "papermill": {
     "duration": 0.054471,
     "end_time": "2022-07-21T17:11:03.634484",
     "exception": false,
     "start_time": "2022-07-21T17:11:03.580013",
     "status": "completed"
    },
    "tags": []
   },
   "outputs": [
    {
     "data": {
      "text/plain": [
       "0        72752.5\n",
       "1        72752.5\n",
       "2       148114.0\n",
       "3        89643.0\n",
       "4        72752.5\n",
       "          ...   \n",
       "1056     52000.0\n",
       "1057     51000.0\n",
       "1058     57000.0\n",
       "1059     58000.0\n",
       "1060     75000.0\n",
       "Name: ex_showroom_price, Length: 1061, dtype: float64"
      ]
     },
     "execution_count": 9,
     "metadata": {},
     "output_type": "execute_result"
    }
   ],
   "source": [
    "np.round(df['ex_showroom_price'],2)"
   ]
  },
  {
   "cell_type": "code",
   "execution_count": 10,
   "id": "f0d2b071",
   "metadata": {
    "execution": {
     "iopub.execute_input": "2022-07-21T17:11:03.728525Z",
     "iopub.status.busy": "2022-07-21T17:11:03.728254Z",
     "iopub.status.idle": "2022-07-21T17:11:03.735074Z",
     "shell.execute_reply": "2022-07-21T17:11:03.734530Z"
    },
    "papermill": {
     "duration": 0.055105,
     "end_time": "2022-07-21T17:11:03.736596",
     "exception": false,
     "start_time": "2022-07-21T17:11:03.681491",
     "status": "completed"
    },
    "tags": []
   },
   "outputs": [
    {
     "data": {
      "text/plain": [
       "Bajaj Pulsar 150                 41\n",
       "Royal Enfield Classic 350        27\n",
       "Honda Activa [2000-2015]         23\n",
       "Honda CB Hornet 160R             22\n",
       "Bajaj Pulsar 180                 20\n",
       "Royal Enfield Thunderbird 350    19\n",
       "Hero Honda Splendor Plus         17\n",
       "Bajaj Discover 125               16\n",
       "Yamaha FZ S V 2.0                16\n",
       "Honda Activa 3G                  15\n",
       "Honda Shine                      15\n",
       "Honda CB Unicorn 150             14\n",
       "TVS Apache RTR 160               14\n",
       "Bajaj Pulsar 135 LS              13\n",
       "Honda Activa 5G                  12\n",
       "Name: name, dtype: int64"
      ]
     },
     "execution_count": 10,
     "metadata": {},
     "output_type": "execute_result"
    }
   ],
   "source": [
    "df['name'].value_counts().head(15)"
   ]
  },
  {
   "cell_type": "code",
   "execution_count": 11,
   "id": "f982d3e4",
   "metadata": {
    "execution": {
     "iopub.execute_input": "2022-07-21T17:11:03.829122Z",
     "iopub.status.busy": "2022-07-21T17:11:03.828682Z",
     "iopub.status.idle": "2022-07-21T17:11:03.835016Z",
     "shell.execute_reply": "2022-07-21T17:11:03.834457Z"
    },
    "papermill": {
     "duration": 0.054451,
     "end_time": "2022-07-21T17:11:03.836612",
     "exception": false,
     "start_time": "2022-07-21T17:11:03.782161",
     "status": "completed"
    },
    "tags": []
   },
   "outputs": [
    {
     "data": {
      "text/plain": [
       "1st owner    924\n",
       "2nd owner    123\n",
       "3rd owner     11\n",
       "4th owner      3\n",
       "Name: owner, dtype: int64"
      ]
     },
     "execution_count": 11,
     "metadata": {},
     "output_type": "execute_result"
    }
   ],
   "source": [
    "df['owner'].value_counts()"
   ]
  },
  {
   "cell_type": "code",
   "execution_count": 12,
   "id": "c84b79c6",
   "metadata": {
    "execution": {
     "iopub.execute_input": "2022-07-21T17:11:03.928958Z",
     "iopub.status.busy": "2022-07-21T17:11:03.928514Z",
     "iopub.status.idle": "2022-07-21T17:11:03.934920Z",
     "shell.execute_reply": "2022-07-21T17:11:03.934175Z"
    },
    "papermill": {
     "duration": 0.054943,
     "end_time": "2022-07-21T17:11:03.936842",
     "exception": false,
     "start_time": "2022-07-21T17:11:03.881899",
     "status": "completed"
    },
    "tags": []
   },
   "outputs": [
    {
     "data": {
      "text/plain": [
       "Individual    1055\n",
       "Dealer           6\n",
       "Name: seller_type, dtype: int64"
      ]
     },
     "execution_count": 12,
     "metadata": {},
     "output_type": "execute_result"
    }
   ],
   "source": [
    "df['seller_type'].value_counts()"
   ]
  },
  {
   "cell_type": "markdown",
   "id": "6d090191",
   "metadata": {
    "execution": {
     "iopub.execute_input": "2022-05-23T17:57:45.32964Z",
     "iopub.status.busy": "2022-05-23T17:57:45.328695Z",
     "iopub.status.idle": "2022-05-23T17:57:45.334375Z",
     "shell.execute_reply": "2022-05-23T17:57:45.33356Z",
     "shell.execute_reply.started": "2022-05-23T17:57:45.329605Z"
    },
    "papermill": {
     "duration": 0.045828,
     "end_time": "2022-07-21T17:11:04.029584",
     "exception": false,
     "start_time": "2022-07-21T17:11:03.983756",
     "status": "completed"
    },
    "tags": []
   },
   "source": [
    "# Data Processing\n",
    "## Explorative Data Analysis"
   ]
  },
  {
   "cell_type": "code",
   "execution_count": 13,
   "id": "a1cb12ae",
   "metadata": {
    "execution": {
     "iopub.execute_input": "2022-07-21T17:11:04.124060Z",
     "iopub.status.busy": "2022-07-21T17:11:04.123551Z",
     "iopub.status.idle": "2022-07-21T17:11:04.346124Z",
     "shell.execute_reply": "2022-07-21T17:11:04.345367Z"
    },
    "papermill": {
     "duration": 0.27302,
     "end_time": "2022-07-21T17:11:04.348385",
     "exception": false,
     "start_time": "2022-07-21T17:11:04.075365",
     "status": "completed"
    },
    "tags": []
   },
   "outputs": [
    {
     "data": {
      "text/plain": [
       "Text(0.5, 0, 'Count')"
      ]
     },
     "execution_count": 13,
     "metadata": {},
     "output_type": "execute_result"
    },
    {
     "data": {
      "image/png": "[encoded data removed]",
      "text/plain": [
       "<Figure size 720x576 with 1 Axes>"
      ]
     },
     "metadata": {
      "needs_background": "light"
     },
     "output_type": "display_data"
    }
   ],
   "source": [
    "top_bike_company = df['name'].value_counts().head(10)\n",
    "plt.figure(figsize=(10, 8))\n",
    "sns.barplot(x = top_bike_company, y = top_bike_company.index)\n",
    "plt.ylabel('Name of bike')\n",
    "plt.title('Top 10 bike company')\n",
    "plt.xlabel('Count')"
   ]
  },
  {
   "cell_type": "code",
   "execution_count": 14,
   "id": "a8763e24",
   "metadata": {
    "execution": {
     "iopub.execute_input": "2022-07-21T17:11:04.445641Z",
     "iopub.status.busy": "2022-07-21T17:11:04.444847Z",
     "iopub.status.idle": "2022-07-21T17:11:04.669398Z",
     "shell.execute_reply": "2022-07-21T17:11:04.668558Z"
    },
    "papermill": {
     "duration": 0.27561,
     "end_time": "2022-07-21T17:11:04.671284",
     "exception": false,
     "start_time": "2022-07-21T17:11:04.395674",
     "status": "completed"
    },
    "tags": []
   },
   "outputs": [
    {
     "name": "stderr",
     "output_type": "stream",
     "text": [
      "/opt/conda/lib/python3.7/site-packages/seaborn/distributions.py:2619: FutureWarning: `distplot` is a deprecated function and will be removed in a future version. Please adapt your code to use either `displot` (a figure-level function with similar flexibility) or `histplot` (an axes-level function for histograms).\n",
      "  warnings.warn(msg, FutureWarning)\n"
     ]
    },
    {
     "data": {
      "text/plain": [
       "<AxesSubplot:xlabel='selling_price', ylabel='Density'>"
      ]
     },
     "execution_count": 14,
     "metadata": {},
     "output_type": "execute_result"
    },
    {
     "data": {
      "image/png": "[encoded data removed]",
      "text/plain": [
       "<Figure size 432x288 with 1 Axes>"
      ]
     },
     "metadata": {
      "needs_background": "light"
     },
     "output_type": "display_data"
    }
   ],
   "source": [
    "sns.distplot(df['selling_price'].value_counts())"
   ]
  },
  {
   "cell_type": "code",
   "execution_count": 15,
   "id": "e2b79590",
   "metadata": {
    "execution": {
     "iopub.execute_input": "2022-07-21T17:11:04.768752Z",
     "iopub.status.busy": "2022-07-21T17:11:04.768507Z",
     "iopub.status.idle": "2022-07-21T17:11:04.966370Z",
     "shell.execute_reply": "2022-07-21T17:11:04.965513Z"
    },
    "papermill": {
     "duration": 0.249249,
     "end_time": "2022-07-21T17:11:04.968639",
     "exception": false,
     "start_time": "2022-07-21T17:11:04.719390",
     "status": "completed"
    },
    "tags": []
   },
   "outputs": [
    {
     "data": {
      "text/plain": [
       "<AxesSubplot:xlabel='year', ylabel='count'>"
      ]
     },
     "execution_count": 15,
     "metadata": {},
     "output_type": "execute_result"
    },
    {
     "data": {
      "image/png": "[encoded data removed]",
      "text/plain": [
       "<Figure size 432x288 with 1 Axes>"
      ]
     },
     "metadata": {
      "needs_background": "light"
     },
     "output_type": "display_data"
    }
   ],
   "source": [
    "sns.countplot(x=df['year'].head(10))"
   ]
  },
  {
   "cell_type": "code",
   "execution_count": 16,
   "id": "a98f2a39",
   "metadata": {
    "execution": {
     "iopub.execute_input": "2022-07-21T17:11:05.071088Z",
     "iopub.status.busy": "2022-07-21T17:11:05.070279Z",
     "iopub.status.idle": "2022-07-21T17:11:05.213063Z",
     "shell.execute_reply": "2022-07-21T17:11:05.212219Z"
    },
    "papermill": {
     "duration": 0.196547,
     "end_time": "2022-07-21T17:11:05.215793",
     "exception": false,
     "start_time": "2022-07-21T17:11:05.019246",
     "status": "completed"
    },
    "tags": []
   },
   "outputs": [
    {
     "data": {
      "text/plain": [
       "<AxesSubplot:xlabel='seller_type', ylabel='count'>"
      ]
     },
     "execution_count": 16,
     "metadata": {},
     "output_type": "execute_result"
    },
    {
     "data": {
      "image/png": "[encoded data removed]",
      "text/plain": [
       "<Figure size 432x288 with 1 Axes>"
      ]
     },
     "metadata": {
      "needs_background": "light"
     },
     "output_type": "display_data"
    }
   ],
   "source": [
    "sns.countplot(x=df['seller_type'], data=df)"
   ]
  },
  {
   "cell_type": "markdown",
   "id": "bf6aa4dc",
   "metadata": {
    "papermill": {
     "duration": 0.049579,
     "end_time": "2022-07-21T17:11:05.317367",
     "exception": false,
     "start_time": "2022-07-21T17:11:05.267788",
     "status": "completed"
    },
    "tags": []
   },
   "source": [
    "# Handling the Categorical values "
   ]
  },
  {
   "cell_type": "code",
   "execution_count": 17,
   "id": "913e7a3a",
   "metadata": {
    "execution": {
     "iopub.execute_input": "2022-07-21T17:11:05.419228Z",
     "iopub.status.busy": "2022-07-21T17:11:05.418699Z",
     "iopub.status.idle": "2022-07-21T17:11:05.421680Z",
     "shell.execute_reply": "2022-07-21T17:11:05.421171Z"
    },
    "papermill": {
     "duration": 0.055991,
     "end_time": "2022-07-21T17:11:05.423208",
     "exception": false,
     "start_time": "2022-07-21T17:11:05.367217",
     "status": "completed"
    },
    "tags": []
   },
   "outputs": [],
   "source": [
    "# we can convert categorical data to binary data through OneHotEncoder method or get_dummies method"
   ]
  },
  {
   "cell_type": "code",
   "execution_count": 18,
   "id": "e03cc26e",
   "metadata": {
    "execution": {
     "iopub.execute_input": "2022-07-21T17:11:05.524986Z",
     "iopub.status.busy": "2022-07-21T17:11:05.524495Z",
     "iopub.status.idle": "2022-07-21T17:11:05.533165Z",
     "shell.execute_reply": "2022-07-21T17:11:05.532627Z"
    },
    "papermill": {
     "duration": 0.061914,
     "end_time": "2022-07-21T17:11:05.534938",
     "exception": false,
     "start_time": "2022-07-21T17:11:05.473024",
     "status": "completed"
    },
    "tags": []
   },
   "outputs": [
    {
     "data": {
      "text/plain": [
       "\"\\nor\\nfrom sklearn.preprocessing import OneHotEncoder\\nencoder=OneHotEncoder(drop='first')\\nenc=pd.DataFrame(encoder.fit_transform(df[['owner']]).toarray())\\n\""
      ]
     },
     "execution_count": 18,
     "metadata": {},
     "output_type": "execute_result"
    }
   ],
   "source": [
    "df=pd.get_dummies(df,columns=['owner','seller_type'],drop_first=True)\n",
    "'''\n",
    "or\n",
    "from sklearn.preprocessing import OneHotEncoder\n",
    "encoder=OneHotEncoder(drop='first')\n",
    "enc=pd.DataFrame(encoder.fit_transform(df[['owner']]).toarray())\n",
    "'''"
   ]
  },
  {
   "cell_type": "code",
   "execution_count": 19,
   "id": "9641afba",
   "metadata": {
    "execution": {
     "iopub.execute_input": "2022-07-21T17:11:05.638992Z",
     "iopub.status.busy": "2022-07-21T17:11:05.638486Z",
     "iopub.status.idle": "2022-07-21T17:11:05.643841Z",
     "shell.execute_reply": "2022-07-21T17:11:05.643028Z"
    },
    "papermill": {
     "duration": 0.059635,
     "end_time": "2022-07-21T17:11:05.645558",
     "exception": false,
     "start_time": "2022-07-21T17:11:05.585923",
     "status": "completed"
    },
    "tags": []
   },
   "outputs": [],
   "source": [
    "def bike_model(model_name, excl_honda_hero=False):\n",
    "    model_list = []\n",
    "    if excl_honda_hero:\n",
    "        for i in df['name']:\n",
    "            if model_name in i and 'Hero' not in i:\n",
    "                model_list.append(i)\n",
    "        return model_list\n",
    "    else:\n",
    "        for i in df['name']:\n",
    "            if model_name in i:\n",
    "                model_list.append(i)\n",
    "        return model_list\n"
   ]
  },
  {
   "cell_type": "code",
   "execution_count": 20,
   "id": "38994c89",
   "metadata": {
    "execution": {
     "iopub.execute_input": "2022-07-21T17:11:05.748356Z",
     "iopub.status.busy": "2022-07-21T17:11:05.747754Z",
     "iopub.status.idle": "2022-07-21T17:11:05.754250Z",
     "shell.execute_reply": "2022-07-21T17:11:05.753729Z"
    },
    "papermill": {
     "duration": 0.059809,
     "end_time": "2022-07-21T17:11:05.755859",
     "exception": false,
     "start_time": "2022-07-21T17:11:05.696050",
     "status": "completed"
    },
    "tags": []
   },
   "outputs": [],
   "source": [
    "royal_enfield = bike_model('Royal Enfield')\n",
    "honda = bike_model('Honda',excl_honda_hero=True)\n",
    "bajaj = bike_model('Bajaj')\n",
    "yamaha = bike_model('Yamaha')\n",
    "suzuki = bike_model('Suzuki')\n",
    "hero = bike_model('Hero')\n",
    "tvs = bike_model('TVS')\n",
    "ktm = bike_model('KTM')"
   ]
  },
  {
   "cell_type": "code",
   "execution_count": 21,
   "id": "2f32873e",
   "metadata": {
    "execution": {
     "iopub.execute_input": "2022-07-21T17:11:05.859664Z",
     "iopub.status.busy": "2022-07-21T17:11:05.859189Z",
     "iopub.status.idle": "2022-07-21T17:11:05.863631Z",
     "shell.execute_reply": "2022-07-21T17:11:05.863165Z"
    },
    "papermill": {
     "duration": 0.058326,
     "end_time": "2022-07-21T17:11:05.865205",
     "exception": false,
     "start_time": "2022-07-21T17:11:05.806879",
     "status": "completed"
    },
    "tags": []
   },
   "outputs": [],
   "source": [
    "def brand(i):\n",
    "    if i in royal_enfield:\n",
    "        return 'Royal Enfield'\n",
    "    elif i in honda:\n",
    "        return 'Honda'\n",
    "    elif i in bajaj:\n",
    "        return 'Bajaj'\n",
    "    elif i in yamaha:\n",
    "        return 'Yamaha'\n",
    "    elif i in hero:\n",
    "        return 'Hero'    \n",
    "    elif i in tvs:\n",
    "        return 'TVS'    \n",
    "    elif i in suzuki:\n",
    "        return 'Suzuki'  \n",
    "    elif i in ktm:\n",
    "        return 'KTM' \n",
    "    else:\n",
    "        return 'Other'"
   ]
  },
  {
   "cell_type": "code",
   "execution_count": 22,
   "id": "11f22caf",
   "metadata": {
    "execution": {
     "iopub.execute_input": "2022-07-21T17:11:05.967079Z",
     "iopub.status.busy": "2022-07-21T17:11:05.966596Z",
     "iopub.status.idle": "2022-07-21T17:11:05.984156Z",
     "shell.execute_reply": "2022-07-21T17:11:05.983492Z"
    },
    "papermill": {
     "duration": 0.070701,
     "end_time": "2022-07-21T17:11:05.985761",
     "exception": false,
     "start_time": "2022-07-21T17:11:05.915060",
     "status": "completed"
    },
    "tags": []
   },
   "outputs": [
    {
     "data": {
      "text/html": [
       "<div>\n",
       "<style scoped>\n",
       "    .dataframe tbody tr th:only-of-type {\n",
       "        vertical-align: middle;\n",
       "    }\n",
       "\n",
       "    .dataframe tbody tr th {\n",
       "        vertical-align: top;\n",
       "    }\n",
       "\n",
       "    .dataframe thead th {\n",
       "        text-align: right;\n",
       "    }\n",
       "</style>\n",
       "<table border=\"1\" class=\"dataframe\">\n",
       "  <thead>\n",
       "    <tr style=\"text-align: right;\">\n",
       "      <th></th>\n",
       "      <th>name</th>\n",
       "      <th>selling_price</th>\n",
       "      <th>year</th>\n",
       "      <th>km_driven</th>\n",
       "      <th>ex_showroom_price</th>\n",
       "      <th>owner_2nd owner</th>\n",
       "      <th>owner_3rd owner</th>\n",
       "      <th>owner_4th owner</th>\n",
       "      <th>seller_type_Individual</th>\n",
       "      <th>brand</th>\n",
       "    </tr>\n",
       "  </thead>\n",
       "  <tbody>\n",
       "    <tr>\n",
       "      <th>0</th>\n",
       "      <td>Royal Enfield Classic 350</td>\n",
       "      <td>175000</td>\n",
       "      <td>2019</td>\n",
       "      <td>350</td>\n",
       "      <td>72752.5</td>\n",
       "      <td>0</td>\n",
       "      <td>0</td>\n",
       "      <td>0</td>\n",
       "      <td>1</td>\n",
       "      <td>Royal Enfield</td>\n",
       "    </tr>\n",
       "    <tr>\n",
       "      <th>1</th>\n",
       "      <td>Honda Dio</td>\n",
       "      <td>45000</td>\n",
       "      <td>2017</td>\n",
       "      <td>5650</td>\n",
       "      <td>72752.5</td>\n",
       "      <td>0</td>\n",
       "      <td>0</td>\n",
       "      <td>0</td>\n",
       "      <td>1</td>\n",
       "      <td>Honda</td>\n",
       "    </tr>\n",
       "    <tr>\n",
       "      <th>2</th>\n",
       "      <td>Royal Enfield Classic Gunmetal Grey</td>\n",
       "      <td>150000</td>\n",
       "      <td>2018</td>\n",
       "      <td>12000</td>\n",
       "      <td>148114.0</td>\n",
       "      <td>0</td>\n",
       "      <td>0</td>\n",
       "      <td>0</td>\n",
       "      <td>1</td>\n",
       "      <td>Royal Enfield</td>\n",
       "    </tr>\n",
       "    <tr>\n",
       "      <th>3</th>\n",
       "      <td>Yamaha Fazer FI V 2.0 [2016-2018]</td>\n",
       "      <td>65000</td>\n",
       "      <td>2015</td>\n",
       "      <td>23000</td>\n",
       "      <td>89643.0</td>\n",
       "      <td>0</td>\n",
       "      <td>0</td>\n",
       "      <td>0</td>\n",
       "      <td>1</td>\n",
       "      <td>Yamaha</td>\n",
       "    </tr>\n",
       "    <tr>\n",
       "      <th>4</th>\n",
       "      <td>Yamaha SZ [2013-2014]</td>\n",
       "      <td>20000</td>\n",
       "      <td>2011</td>\n",
       "      <td>21000</td>\n",
       "      <td>72752.5</td>\n",
       "      <td>1</td>\n",
       "      <td>0</td>\n",
       "      <td>0</td>\n",
       "      <td>1</td>\n",
       "      <td>Yamaha</td>\n",
       "    </tr>\n",
       "  </tbody>\n",
       "</table>\n",
       "</div>"
      ],
      "text/plain": [
       "                                  name  selling_price  year  km_driven  \\\n",
       "0            Royal Enfield Classic 350         175000  2019        350   \n",
       "1                            Honda Dio          45000  2017       5650   \n",
       "2  Royal Enfield Classic Gunmetal Grey         150000  2018      12000   \n",
       "3    Yamaha Fazer FI V 2.0 [2016-2018]          65000  2015      23000   \n",
       "4                Yamaha SZ [2013-2014]          20000  2011      21000   \n",
       "\n",
       "   ex_showroom_price  owner_2nd owner  owner_3rd owner  owner_4th owner  \\\n",
       "0            72752.5                0                0                0   \n",
       "1            72752.5                0                0                0   \n",
       "2           148114.0                0                0                0   \n",
       "3            89643.0                0                0                0   \n",
       "4            72752.5                1                0                0   \n",
       "\n",
       "   seller_type_Individual          brand  \n",
       "0                       1  Royal Enfield  \n",
       "1                       1          Honda  \n",
       "2                       1  Royal Enfield  \n",
       "3                       1         Yamaha  \n",
       "4                       1         Yamaha  "
      ]
     },
     "execution_count": 22,
     "metadata": {},
     "output_type": "execute_result"
    }
   ],
   "source": [
    "df['brand'] = df['name'].apply(lambda x:brand(x))\n",
    "df.head()"
   ]
  },
  {
   "cell_type": "markdown",
   "id": "b141be62",
   "metadata": {
    "papermill": {
     "duration": 0.050371,
     "end_time": "2022-07-21T17:11:06.088921",
     "exception": false,
     "start_time": "2022-07-21T17:11:06.038550",
     "status": "completed"
    },
    "tags": []
   },
   "source": [
    "<!-- Name Column is a categorical Variable so we will drop this Column -->"
   ]
  },
  {
   "cell_type": "code",
   "execution_count": 23,
   "id": "f697a2ac",
   "metadata": {
    "execution": {
     "iopub.execute_input": "2022-07-21T17:11:06.192126Z",
     "iopub.status.busy": "2022-07-21T17:11:06.191609Z",
     "iopub.status.idle": "2022-07-21T17:11:06.196128Z",
     "shell.execute_reply": "2022-07-21T17:11:06.195633Z"
    },
    "papermill": {
     "duration": 0.058281,
     "end_time": "2022-07-21T17:11:06.197716",
     "exception": false,
     "start_time": "2022-07-21T17:11:06.139435",
     "status": "completed"
    },
    "tags": []
   },
   "outputs": [],
   "source": [
    "df=df.drop('name',axis='columns')"
   ]
  },
  {
   "cell_type": "code",
   "execution_count": 24,
   "id": "6a4020f2",
   "metadata": {
    "execution": {
     "iopub.execute_input": "2022-07-21T17:11:06.300893Z",
     "iopub.status.busy": "2022-07-21T17:11:06.300389Z",
     "iopub.status.idle": "2022-07-21T17:11:06.307253Z",
     "shell.execute_reply": "2022-07-21T17:11:06.306553Z"
    },
    "papermill": {
     "duration": 0.060671,
     "end_time": "2022-07-21T17:11:06.308993",
     "exception": false,
     "start_time": "2022-07-21T17:11:06.248322",
     "status": "completed"
    },
    "tags": []
   },
   "outputs": [],
   "source": [
    "df= pd.get_dummies(df, columns=['brand'], drop_first=True)"
   ]
  },
  {
   "cell_type": "code",
   "execution_count": 25,
   "id": "9bfcfd9a",
   "metadata": {
    "execution": {
     "iopub.execute_input": "2022-07-21T17:11:06.411602Z",
     "iopub.status.busy": "2022-07-21T17:11:06.411076Z",
     "iopub.status.idle": "2022-07-21T17:11:06.415720Z",
     "shell.execute_reply": "2022-07-21T17:11:06.415193Z"
    },
    "papermill": {
     "duration": 0.058107,
     "end_time": "2022-07-21T17:11:06.417382",
     "exception": false,
     "start_time": "2022-07-21T17:11:06.359275",
     "status": "completed"
    },
    "tags": []
   },
   "outputs": [],
   "source": [
    "x=df.drop('selling_price',axis='columns')\n",
    "y=df['selling_price']"
   ]
  },
  {
   "cell_type": "markdown",
   "id": "8334f50d",
   "metadata": {
    "papermill": {
     "duration": 0.050909,
     "end_time": "2022-07-21T17:11:06.520249",
     "exception": false,
     "start_time": "2022-07-21T17:11:06.469340",
     "status": "completed"
    },
    "tags": []
   },
   "source": [
    "## Train Test Split"
   ]
  },
  {
   "cell_type": "code",
   "execution_count": 26,
   "id": "782992f4",
   "metadata": {
    "execution": {
     "iopub.execute_input": "2022-07-21T17:11:06.623585Z",
     "iopub.status.busy": "2022-07-21T17:11:06.623064Z",
     "iopub.status.idle": "2022-07-21T17:11:06.628177Z",
     "shell.execute_reply": "2022-07-21T17:11:06.627615Z"
    },
    "papermill": {
     "duration": 0.058568,
     "end_time": "2022-07-21T17:11:06.629757",
     "exception": false,
     "start_time": "2022-07-21T17:11:06.571189",
     "status": "completed"
    },
    "tags": []
   },
   "outputs": [],
   "source": [
    "x_train,x_test,y_train,y_test=train_test_split(x,y,test_size=0.25)"
   ]
  },
  {
   "cell_type": "markdown",
   "id": "1f447000",
   "metadata": {
    "papermill": {
     "duration": 0.050342,
     "end_time": "2022-07-21T17:11:06.730609",
     "exception": false,
     "start_time": "2022-07-21T17:11:06.680267",
     "status": "completed"
    },
    "tags": []
   },
   "source": [
    "# Data Modeling"
   ]
  },
  {
   "cell_type": "code",
   "execution_count": 27,
   "id": "d0141788",
   "metadata": {
    "execution": {
     "iopub.execute_input": "2022-07-21T17:11:06.834011Z",
     "iopub.status.busy": "2022-07-21T17:11:06.833514Z",
     "iopub.status.idle": "2022-07-21T17:11:06.854295Z",
     "shell.execute_reply": "2022-07-21T17:11:06.853451Z"
    },
    "papermill": {
     "duration": 0.075408,
     "end_time": "2022-07-21T17:11:06.856878",
     "exception": false,
     "start_time": "2022-07-21T17:11:06.781470",
     "status": "completed"
    },
    "tags": []
   },
   "outputs": [
    {
     "data": {
      "text/plain": [
       "LinearRegression()"
      ]
     },
     "execution_count": 27,
     "metadata": {},
     "output_type": "execute_result"
    }
   ],
   "source": [
    "lin_reg=LinearRegression()\n",
    "lin_reg.fit(x_train,y_train)"
   ]
  },
  {
   "cell_type": "code",
   "execution_count": 28,
   "id": "63ce5945",
   "metadata": {
    "execution": {
     "iopub.execute_input": "2022-07-21T17:11:07.015217Z",
     "iopub.status.busy": "2022-07-21T17:11:07.014961Z",
     "iopub.status.idle": "2022-07-21T17:11:07.019763Z",
     "shell.execute_reply": "2022-07-21T17:11:07.019194Z"
    },
    "papermill": {
     "duration": 0.065316,
     "end_time": "2022-07-21T17:11:07.022494",
     "exception": false,
     "start_time": "2022-07-21T17:11:06.957178",
     "status": "completed"
    },
    "tags": []
   },
   "outputs": [
    {
     "name": "stdout",
     "output_type": "stream",
     "text": [
      "Model Intercept:  -7378244.053604637\n",
      "Model Coefficient:  [ 3.67555304e+03 -4.31636574e-02  5.31133013e-01 -5.68265614e+03\n",
      "  1.97106293e+04  1.78218123e+04 -1.41637480e+04 -3.77752986e+03\n",
      " -3.14007480e+03  8.45983695e+04  2.08886295e+04  5.98193684e+04\n",
      " -1.08881358e+03  3.21982099e+03  5.13215333e+03]\n",
      "Model Coefficient:  187014.0018849024\n"
     ]
    }
   ],
   "source": [
    "print(\"Model Intercept: \",lin_reg.intercept_)\n",
    "print(\"Model Coefficient: \",lin_reg.coef_)\n",
    "print(\"Model Coefficient: \",sum(lin_reg.coef_))\n"
   ]
  },
  {
   "cell_type": "code",
   "execution_count": 29,
   "id": "418d754a",
   "metadata": {
    "execution": {
     "iopub.execute_input": "2022-07-21T17:11:07.129814Z",
     "iopub.status.busy": "2022-07-21T17:11:07.129285Z",
     "iopub.status.idle": "2022-07-21T17:11:07.139818Z",
     "shell.execute_reply": "2022-07-21T17:11:07.138930Z"
    },
    "papermill": {
     "duration": 0.067088,
     "end_time": "2022-07-21T17:11:07.143089",
     "exception": false,
     "start_time": "2022-07-21T17:11:07.076001",
     "status": "completed"
    },
    "tags": []
   },
   "outputs": [],
   "source": [
    "y_pred_test=lin_reg.predict(x_test)\n",
    "y_pred_train=lin_reg.predict(x_train)"
   ]
  },
  {
   "cell_type": "code",
   "execution_count": 30,
   "id": "15500167",
   "metadata": {
    "execution": {
     "iopub.execute_input": "2022-07-21T17:11:07.303953Z",
     "iopub.status.busy": "2022-07-21T17:11:07.303707Z",
     "iopub.status.idle": "2022-07-21T17:11:07.308800Z",
     "shell.execute_reply": "2022-07-21T17:11:07.308026Z"
    },
    "papermill": {
     "duration": 0.066166,
     "end_time": "2022-07-21T17:11:07.310729",
     "exception": false,
     "start_time": "2022-07-21T17:11:07.244563",
     "status": "completed"
    },
    "tags": []
   },
   "outputs": [
    {
     "data": {
      "text/plain": [
       "LinearRegression()"
      ]
     },
     "execution_count": 30,
     "metadata": {},
     "output_type": "execute_result"
    }
   ],
   "source": [
    "lin_reg"
   ]
  },
  {
   "cell_type": "code",
   "execution_count": 31,
   "id": "4623915e",
   "metadata": {
    "execution": {
     "iopub.execute_input": "2022-07-21T17:11:07.414706Z",
     "iopub.status.busy": "2022-07-21T17:11:07.414117Z",
     "iopub.status.idle": "2022-07-21T17:11:07.422833Z",
     "shell.execute_reply": "2022-07-21T17:11:07.421638Z"
    },
    "papermill": {
     "duration": 0.063278,
     "end_time": "2022-07-21T17:11:07.425062",
     "exception": false,
     "start_time": "2022-07-21T17:11:07.361784",
     "status": "completed"
    },
    "tags": []
   },
   "outputs": [
    {
     "name": "stderr",
     "output_type": "stream",
     "text": [
      "/opt/conda/lib/python3.7/site-packages/sklearn/base.py:451: UserWarning: X does not have valid feature names, but LinearRegression was fitted with feature names\n",
      "  \"X does not have valid feature names, but\"\n"
     ]
    },
    {
     "data": {
      "text/plain": [
       "array([126979.29749026])"
      ]
     },
     "execution_count": 31,
     "metadata": {},
     "output_type": "execute_result"
    }
   ],
   "source": [
    "lin_reg.predict([[2019,350,72752.5,0,0,0,1,0,0,0,0,1,0,0,0]])"
   ]
  },
  {
   "cell_type": "code",
   "execution_count": 32,
   "id": "083d4f1c",
   "metadata": {
    "execution": {
     "iopub.execute_input": "2022-07-21T17:11:07.532961Z",
     "iopub.status.busy": "2022-07-21T17:11:07.532693Z",
     "iopub.status.idle": "2022-07-21T17:11:07.537872Z",
     "shell.execute_reply": "2022-07-21T17:11:07.537131Z"
    },
    "papermill": {
     "duration": 0.060661,
     "end_time": "2022-07-21T17:11:07.539658",
     "exception": false,
     "start_time": "2022-07-21T17:11:07.478997",
     "status": "completed"
    },
    "tags": []
   },
   "outputs": [
    {
     "data": {
      "text/plain": [
       "46420892.00000158"
      ]
     },
     "execution_count": 32,
     "metadata": {},
     "output_type": "execute_result"
    }
   ],
   "source": [
    "sum(y_pred_train)"
   ]
  },
  {
   "cell_type": "code",
   "execution_count": 33,
   "id": "2fc7bf3f",
   "metadata": {
    "execution": {
     "iopub.execute_input": "2022-07-21T17:11:07.645649Z",
     "iopub.status.busy": "2022-07-21T17:11:07.645125Z",
     "iopub.status.idle": "2022-07-21T17:11:07.648834Z",
     "shell.execute_reply": "2022-07-21T17:11:07.648290Z"
    },
    "papermill": {
     "duration": 0.0586,
     "end_time": "2022-07-21T17:11:07.650373",
     "exception": false,
     "start_time": "2022-07-21T17:11:07.591773",
     "status": "completed"
    },
    "tags": []
   },
   "outputs": [],
   "source": [
    "train_res=y_train-y_pred_train\n",
    "test_res=y_test-y_pred_test"
   ]
  },
  {
   "cell_type": "code",
   "execution_count": 34,
   "id": "ee37df77",
   "metadata": {
    "execution": {
     "iopub.execute_input": "2022-07-21T17:11:07.756249Z",
     "iopub.status.busy": "2022-07-21T17:11:07.755980Z",
     "iopub.status.idle": "2022-07-21T17:11:07.762489Z",
     "shell.execute_reply": "2022-07-21T17:11:07.761897Z"
    },
    "papermill": {
     "duration": 0.061452,
     "end_time": "2022-07-21T17:11:07.764054",
     "exception": false,
     "start_time": "2022-07-21T17:11:07.702602",
     "status": "completed"
    },
    "tags": []
   },
   "outputs": [
    {
     "data": {
      "text/plain": [
       "950    -1056.951098\n",
       "782    -1069.378083\n",
       "749   -19049.202127\n",
       "381   -24245.328807\n",
       "958    15516.206691\n",
       "           ...     \n",
       "337    -4168.860505\n",
       "502    17390.550009\n",
       "675     1370.210492\n",
       "853     9162.222489\n",
       "866   -70408.846196\n",
       "Name: selling_price, Length: 795, dtype: float64"
      ]
     },
     "execution_count": 34,
     "metadata": {},
     "output_type": "execute_result"
    }
   ],
   "source": [
    "train_res"
   ]
  },
  {
   "cell_type": "code",
   "execution_count": 35,
   "id": "0f48094f",
   "metadata": {
    "execution": {
     "iopub.execute_input": "2022-07-21T17:11:07.871196Z",
     "iopub.status.busy": "2022-07-21T17:11:07.870664Z",
     "iopub.status.idle": "2022-07-21T17:11:07.876515Z",
     "shell.execute_reply": "2022-07-21T17:11:07.875996Z"
    },
    "papermill": {
     "duration": 0.06117,
     "end_time": "2022-07-21T17:11:07.878053",
     "exception": false,
     "start_time": "2022-07-21T17:11:07.816883",
     "status": "completed"
    },
    "tags": []
   },
   "outputs": [
    {
     "data": {
      "text/plain": [
       "105    18128.875915\n",
       "971   -48972.025308\n",
       "461    -3816.790146\n",
       "754    22255.880623\n",
       "230     1717.231501\n",
       "           ...     \n",
       "662   -18087.661904\n",
       "519     5830.945276\n",
       "635     2090.762243\n",
       "194   -16176.087586\n",
       "916   -15137.524791\n",
       "Name: selling_price, Length: 266, dtype: float64"
      ]
     },
     "execution_count": 35,
     "metadata": {},
     "output_type": "execute_result"
    }
   ],
   "source": [
    "test_res"
   ]
  },
  {
   "cell_type": "code",
   "execution_count": 36,
   "id": "f1a7fca9",
   "metadata": {
    "execution": {
     "iopub.execute_input": "2022-07-21T17:11:07.987110Z",
     "iopub.status.busy": "2022-07-21T17:11:07.986592Z",
     "iopub.status.idle": "2022-07-21T17:11:07.989899Z",
     "shell.execute_reply": "2022-07-21T17:11:07.989359Z"
    },
    "papermill": {
     "duration": 0.060151,
     "end_time": "2022-07-21T17:11:07.991539",
     "exception": false,
     "start_time": "2022-07-21T17:11:07.931388",
     "status": "completed"
    },
    "tags": []
   },
   "outputs": [],
   "source": [
    "from sklearn.metrics import mean_squared_error,mean_absolute_error,r2_score"
   ]
  },
  {
   "cell_type": "markdown",
   "id": "a7405bfe",
   "metadata": {
    "papermill": {
     "duration": 0.052555,
     "end_time": "2022-07-21T17:11:08.099107",
     "exception": false,
     "start_time": "2022-07-21T17:11:08.046552",
     "status": "completed"
    },
    "tags": []
   },
   "source": [
    "### Mean Squared error and Root Mean Squared error"
   ]
  },
  {
   "cell_type": "code",
   "execution_count": 37,
   "id": "d3b9e384",
   "metadata": {
    "execution": {
     "iopub.execute_input": "2022-07-21T17:11:08.206406Z",
     "iopub.status.busy": "2022-07-21T17:11:08.206099Z",
     "iopub.status.idle": "2022-07-21T17:11:08.212037Z",
     "shell.execute_reply": "2022-07-21T17:11:08.211208Z"
    },
    "papermill": {
     "duration": 0.06181,
     "end_time": "2022-07-21T17:11:08.214022",
     "exception": false,
     "start_time": "2022-07-21T17:11:08.152212",
     "status": "completed"
    },
    "tags": []
   },
   "outputs": [
    {
     "data": {
      "text/plain": [
       "1064870473.0227611"
      ]
     },
     "execution_count": 37,
     "metadata": {},
     "output_type": "execute_result"
    }
   ],
   "source": [
    "mse=mean_squared_error(y_test,y_pred_test)\n",
    "mse"
   ]
  },
  {
   "cell_type": "code",
   "execution_count": 38,
   "id": "9afddf6c",
   "metadata": {
    "execution": {
     "iopub.execute_input": "2022-07-21T17:11:08.320874Z",
     "iopub.status.busy": "2022-07-21T17:11:08.320620Z",
     "iopub.status.idle": "2022-07-21T17:11:08.326252Z",
     "shell.execute_reply": "2022-07-21T17:11:08.325713Z"
    },
    "papermill": {
     "duration": 0.060845,
     "end_time": "2022-07-21T17:11:08.327829",
     "exception": false,
     "start_time": "2022-07-21T17:11:08.266984",
     "status": "completed"
    },
    "tags": []
   },
   "outputs": [
    {
     "data": {
      "text/plain": [
       "528138316.53659874"
      ]
     },
     "execution_count": 38,
     "metadata": {},
     "output_type": "execute_result"
    }
   ],
   "source": [
    "mse_train=mean_squared_error(y_train,y_pred_train)\n",
    "mse_train"
   ]
  },
  {
   "cell_type": "code",
   "execution_count": 39,
   "id": "de0e0e7b",
   "metadata": {
    "execution": {
     "iopub.execute_input": "2022-07-21T17:11:08.437130Z",
     "iopub.status.busy": "2022-07-21T17:11:08.436604Z",
     "iopub.status.idle": "2022-07-21T17:11:08.441126Z",
     "shell.execute_reply": "2022-07-21T17:11:08.440580Z"
    },
    "papermill": {
     "duration": 0.0613,
     "end_time": "2022-07-21T17:11:08.442674",
     "exception": false,
     "start_time": "2022-07-21T17:11:08.381374",
     "status": "completed"
    },
    "tags": []
   },
   "outputs": [
    {
     "data": {
      "text/plain": [
       "32632.353164041986"
      ]
     },
     "execution_count": 39,
     "metadata": {},
     "output_type": "execute_result"
    }
   ],
   "source": [
    "rmse=np.sqrt(mse)\n",
    "rmse"
   ]
  },
  {
   "cell_type": "code",
   "execution_count": 40,
   "id": "7a2edb62",
   "metadata": {
    "execution": {
     "iopub.execute_input": "2022-07-21T17:11:08.554368Z",
     "iopub.status.busy": "2022-07-21T17:11:08.553845Z",
     "iopub.status.idle": "2022-07-21T17:11:08.558886Z",
     "shell.execute_reply": "2022-07-21T17:11:08.557861Z"
    },
    "papermill": {
     "duration": 0.062833,
     "end_time": "2022-07-21T17:11:08.560685",
     "exception": false,
     "start_time": "2022-07-21T17:11:08.497852",
     "status": "completed"
    },
    "tags": []
   },
   "outputs": [
    {
     "data": {
      "text/plain": [
       "22981.2601163774"
      ]
     },
     "execution_count": 40,
     "metadata": {},
     "output_type": "execute_result"
    }
   ],
   "source": [
    "rmse=np.sqrt(mse_train)\n",
    "rmse"
   ]
  },
  {
   "cell_type": "code",
   "execution_count": 41,
   "id": "a805a11e",
   "metadata": {
    "execution": {
     "iopub.execute_input": "2022-07-21T17:11:08.670661Z",
     "iopub.status.busy": "2022-07-21T17:11:08.670378Z",
     "iopub.status.idle": "2022-07-21T17:11:08.691352Z",
     "shell.execute_reply": "2022-07-21T17:11:08.685800Z"
    },
    "papermill": {
     "duration": 0.078808,
     "end_time": "2022-07-21T17:11:08.693572",
     "exception": false,
     "start_time": "2022-07-21T17:11:08.614764",
     "status": "completed"
    },
    "tags": []
   },
   "outputs": [
    {
     "data": {
      "text/plain": [
       "0.818041848370445"
      ]
     },
     "execution_count": 41,
     "metadata": {},
     "output_type": "execute_result"
    }
   ],
   "source": [
    "lin_reg.score(x_train,y_train)"
   ]
  },
  {
   "cell_type": "code",
   "execution_count": 42,
   "id": "85f2c849",
   "metadata": {
    "execution": {
     "iopub.execute_input": "2022-07-21T17:11:08.851678Z",
     "iopub.status.busy": "2022-07-21T17:11:08.851375Z",
     "iopub.status.idle": "2022-07-21T17:11:08.859390Z",
     "shell.execute_reply": "2022-07-21T17:11:08.858664Z"
    },
    "papermill": {
     "duration": 0.067934,
     "end_time": "2022-07-21T17:11:08.861274",
     "exception": false,
     "start_time": "2022-07-21T17:11:08.793340",
     "status": "completed"
    },
    "tags": []
   },
   "outputs": [
    {
     "data": {
      "text/plain": [
       "0.7297034397025874"
      ]
     },
     "execution_count": 42,
     "metadata": {},
     "output_type": "execute_result"
    }
   ],
   "source": [
    "lin_reg.score(x_test,y_test)"
   ]
  },
  {
   "cell_type": "code",
   "execution_count": 43,
   "id": "d29c123c",
   "metadata": {
    "execution": {
     "iopub.execute_input": "2022-07-21T17:11:08.974540Z",
     "iopub.status.busy": "2022-07-21T17:11:08.974218Z",
     "iopub.status.idle": "2022-07-21T17:11:09.181073Z",
     "shell.execute_reply": "2022-07-21T17:11:09.180220Z"
    },
    "papermill": {
     "duration": 0.266026,
     "end_time": "2022-07-21T17:11:09.183371",
     "exception": false,
     "start_time": "2022-07-21T17:11:08.917345",
     "status": "completed"
    },
    "tags": []
   },
   "outputs": [
    {
     "data": {
      "text/plain": [
       "<matplotlib.collections.PathCollection at 0x7fc55da0de90>"
      ]
     },
     "execution_count": 43,
     "metadata": {},
     "output_type": "execute_result"
    },
    {
     "data": {
      "image/png": "[encoded data removed]",
      "text/plain": [
       "<Figure size 432x288 with 1 Axes>"
      ]
     },
     "metadata": {
      "needs_background": "light"
     },
     "output_type": "display_data"
    }
   ],
   "source": [
    "plt.scatter(y_test,test_res)"
   ]
  },
  {
   "cell_type": "code",
   "execution_count": 44,
   "id": "6e2bc50b",
   "metadata": {
    "execution": {
     "iopub.execute_input": "2022-07-21T17:11:09.298012Z",
     "iopub.status.busy": "2022-07-21T17:11:09.297354Z",
     "iopub.status.idle": "2022-07-21T17:11:09.549250Z",
     "shell.execute_reply": "2022-07-21T17:11:09.548616Z"
    },
    "papermill": {
     "duration": 0.311365,
     "end_time": "2022-07-21T17:11:09.551039",
     "exception": false,
     "start_time": "2022-07-21T17:11:09.239674",
     "status": "completed"
    },
    "tags": []
   },
   "outputs": [
    {
     "name": "stderr",
     "output_type": "stream",
     "text": [
      "/opt/conda/lib/python3.7/site-packages/seaborn/distributions.py:2619: FutureWarning: `distplot` is a deprecated function and will be removed in a future version. Please adapt your code to use either `displot` (a figure-level function with similar flexibility) or `histplot` (an axes-level function for histograms).\n",
      "  warnings.warn(msg, FutureWarning)\n"
     ]
    },
    {
     "data": {
      "text/plain": [
       "<AxesSubplot:xlabel='selling_price', ylabel='Density'>"
      ]
     },
     "execution_count": 44,
     "metadata": {},
     "output_type": "execute_result"
    },
    {
     "data": {
      "image/png": "[encoded data removed]",
      "text/plain": [
       "<Figure size 432x288 with 1 Axes>"
      ]
     },
     "metadata": {
      "needs_background": "light"
     },
     "output_type": "display_data"
    }
   ],
   "source": [
    "sns.distplot(test_res,kde=True)"
   ]
  },
  {
   "cell_type": "code",
   "execution_count": 45,
   "id": "b5f1d62d",
   "metadata": {
    "execution": {
     "iopub.execute_input": "2022-07-21T17:11:09.668777Z",
     "iopub.status.busy": "2022-07-21T17:11:09.667804Z",
     "iopub.status.idle": "2022-07-21T17:11:09.853320Z",
     "shell.execute_reply": "2022-07-21T17:11:09.852719Z"
    },
    "papermill": {
     "duration": 0.246233,
     "end_time": "2022-07-21T17:11:09.855064",
     "exception": false,
     "start_time": "2022-07-21T17:11:09.608831",
     "status": "completed"
    },
    "tags": []
   },
   "outputs": [
    {
     "data": {
      "text/plain": [
       "<matplotlib.lines.Line2D at 0x7fc55da8a9d0>"
      ]
     },
     "execution_count": 45,
     "metadata": {},
     "output_type": "execute_result"
    },
    {
     "data": {
      "image/png": "[encoded data removed]",
      "text/plain": [
       "<Figure size 432x288 with 1 Axes>"
      ]
     },
     "metadata": {
      "needs_background": "light"
     },
     "output_type": "display_data"
    }
   ],
   "source": [
    "plt.scatter(y_pred_test,test_res,c='r')\n",
    "plt.axhline(y=0,color='blue')"
   ]
  },
  {
   "cell_type": "code",
   "execution_count": 46,
   "id": "77d81c38",
   "metadata": {
    "execution": {
     "iopub.execute_input": "2022-07-21T17:11:09.973101Z",
     "iopub.status.busy": "2022-07-21T17:11:09.972607Z",
     "iopub.status.idle": "2022-07-21T17:11:10.301661Z",
     "shell.execute_reply": "2022-07-21T17:11:10.300854Z"
    },
    "papermill": {
     "duration": 0.390914,
     "end_time": "2022-07-21T17:11:10.304361",
     "exception": false,
     "start_time": "2022-07-21T17:11:09.913447",
     "status": "completed"
    },
    "tags": []
   },
   "outputs": [
    {
     "data": {
      "text/html": [
       "<table class=\"simpletable\">\n",
       "<caption>OLS Regression Results</caption>\n",
       "<tr>\n",
       "  <th>Dep. Variable:</th>            <td>y</td>        <th>  R-squared:         </th> <td>   0.796</td> \n",
       "</tr>\n",
       "<tr>\n",
       "  <th>Model:</th>                   <td>OLS</td>       <th>  Adj. R-squared:    </th> <td>   0.794</td> \n",
       "</tr>\n",
       "<tr>\n",
       "  <th>Method:</th>             <td>Least Squares</td>  <th>  F-statistic:       </th> <td>   272.6</td> \n",
       "</tr>\n",
       "<tr>\n",
       "  <th>Date:</th>             <td>Thu, 21 Jul 2022</td> <th>  Prob (F-statistic):</th>  <td>  0.00</td>  \n",
       "</tr>\n",
       "<tr>\n",
       "  <th>Time:</th>                 <td>17:11:10</td>     <th>  Log-Likelihood:    </th> <td> -12266.</td> \n",
       "</tr>\n",
       "<tr>\n",
       "  <th>No. Observations:</th>      <td>  1061</td>      <th>  AIC:               </th> <td>2.456e+04</td>\n",
       "</tr>\n",
       "<tr>\n",
       "  <th>Df Residuals:</th>          <td>  1045</td>      <th>  BIC:               </th> <td>2.464e+04</td>\n",
       "</tr>\n",
       "<tr>\n",
       "  <th>Df Model:</th>              <td>    15</td>      <th>                     </th>     <td> </td>    \n",
       "</tr>\n",
       "<tr>\n",
       "  <th>Covariance Type:</th>      <td>nonrobust</td>    <th>                     </th>     <td> </td>    \n",
       "</tr>\n",
       "</table>\n",
       "<table class=\"simpletable\">\n",
       "<tr>\n",
       "      <td></td>         <th>coef</th>     <th>std err</th>      <th>t</th>      <th>P>|t|</th>  <th>[0.025</th>    <th>0.975]</th>  \n",
       "</tr>\n",
       "<tr>\n",
       "  <th>Intercept</th> <td>-7.201e+06</td> <td> 4.06e+05</td> <td>  -17.715</td> <td> 0.000</td> <td>   -8e+06</td> <td> -6.4e+06</td>\n",
       "</tr>\n",
       "<tr>\n",
       "  <th>x[0]</th>      <td> 3582.7039</td> <td>  201.943</td> <td>   17.741</td> <td> 0.000</td> <td> 3186.444</td> <td> 3978.964</td>\n",
       "</tr>\n",
       "<tr>\n",
       "  <th>x[1]</th>      <td>   -0.0364</td> <td>    0.017</td> <td>   -2.179</td> <td> 0.030</td> <td>   -0.069</td> <td>   -0.004</td>\n",
       "</tr>\n",
       "<tr>\n",
       "  <th>x[2]</th>      <td>    0.5959</td> <td>    0.015</td> <td>   40.585</td> <td> 0.000</td> <td>    0.567</td> <td>    0.625</td>\n",
       "</tr>\n",
       "<tr>\n",
       "  <th>x[3]</th>      <td>-5577.7978</td> <td> 2512.229</td> <td>   -2.220</td> <td> 0.027</td> <td>-1.05e+04</td> <td> -648.211</td>\n",
       "</tr>\n",
       "<tr>\n",
       "  <th>x[4]</th>      <td> 2.029e+04</td> <td> 7915.992</td> <td>    2.563</td> <td> 0.011</td> <td> 4754.873</td> <td> 3.58e+04</td>\n",
       "</tr>\n",
       "<tr>\n",
       "  <th>x[5]</th>      <td> 6203.1532</td> <td> 1.57e+04</td> <td>    0.395</td> <td> 0.693</td> <td>-2.46e+04</td> <td>  3.7e+04</td>\n",
       "</tr>\n",
       "<tr>\n",
       "  <th>x[6]</th>      <td>-8504.5739</td> <td> 1.05e+04</td> <td>   -0.808</td> <td> 0.419</td> <td>-2.91e+04</td> <td> 1.21e+04</td>\n",
       "</tr>\n",
       "<tr>\n",
       "  <th>x[7]</th>      <td>-5210.9224</td> <td> 2322.398</td> <td>   -2.244</td> <td> 0.025</td> <td>-9768.016</td> <td> -653.828</td>\n",
       "</tr>\n",
       "<tr>\n",
       "  <th>x[8]</th>      <td>-3935.8774</td> <td> 2418.645</td> <td>   -1.627</td> <td> 0.104</td> <td>-8681.831</td> <td>  810.076</td>\n",
       "</tr>\n",
       "<tr>\n",
       "  <th>x[9]</th>      <td>   7.6e+04</td> <td> 5529.175</td> <td>   13.745</td> <td> 0.000</td> <td> 6.51e+04</td> <td> 8.68e+04</td>\n",
       "</tr>\n",
       "<tr>\n",
       "  <th>x[10]</th>     <td> 1.672e+04</td> <td> 5289.319</td> <td>    3.160</td> <td> 0.002</td> <td> 6337.309</td> <td> 2.71e+04</td>\n",
       "</tr>\n",
       "<tr>\n",
       "  <th>x[11]</th>     <td> 5.675e+04</td> <td> 2982.476</td> <td>   19.029</td> <td> 0.000</td> <td> 5.09e+04</td> <td> 6.26e+04</td>\n",
       "</tr>\n",
       "<tr>\n",
       "  <th>x[12]</th>     <td> 7952.5339</td> <td> 4961.751</td> <td>    1.603</td> <td> 0.109</td> <td>-1783.595</td> <td> 1.77e+04</td>\n",
       "</tr>\n",
       "<tr>\n",
       "  <th>x[13]</th>     <td> 3307.3299</td> <td> 3476.214</td> <td>    0.951</td> <td> 0.342</td> <td>-3513.825</td> <td> 1.01e+04</td>\n",
       "</tr>\n",
       "<tr>\n",
       "  <th>x[14]</th>     <td> 2101.5975</td> <td> 3023.855</td> <td>    0.695</td> <td> 0.487</td> <td>-3831.922</td> <td> 8035.117</td>\n",
       "</tr>\n",
       "</table>\n",
       "<table class=\"simpletable\">\n",
       "<tr>\n",
       "  <th>Omnibus:</th>       <td>728.287</td> <th>  Durbin-Watson:     </th> <td>   1.730</td> \n",
       "</tr>\n",
       "<tr>\n",
       "  <th>Prob(Omnibus):</th> <td> 0.000</td>  <th>  Jarque-Bera (JB):  </th> <td>23729.204</td>\n",
       "</tr>\n",
       "<tr>\n",
       "  <th>Skew:</th>          <td> 2.687</td>  <th>  Prob(JB):          </th> <td>    0.00</td> \n",
       "</tr>\n",
       "<tr>\n",
       "  <th>Kurtosis:</th>      <td>25.536</td>  <th>  Cond. No.          </th> <td>5.47e+07</td> \n",
       "</tr>\n",
       "</table><br/><br/>Notes:<br/>[1] Standard Errors assume that the covariance matrix of the errors is correctly specified.<br/>[2] The condition number is large, 5.47e+07. This might indicate that there are<br/>strong multicollinearity or other numerical problems."
      ],
      "text/plain": [
       "<class 'statsmodels.iolib.summary.Summary'>\n",
       "\"\"\"\n",
       "                            OLS Regression Results                            \n",
       "==============================================================================\n",
       "Dep. Variable:                      y   R-squared:                       0.796\n",
       "Model:                            OLS   Adj. R-squared:                  0.794\n",
       "Method:                 Least Squares   F-statistic:                     272.6\n",
       "Date:                Thu, 21 Jul 2022   Prob (F-statistic):               0.00\n",
       "Time:                        17:11:10   Log-Likelihood:                -12266.\n",
       "No. Observations:                1061   AIC:                         2.456e+04\n",
       "Df Residuals:                    1045   BIC:                         2.464e+04\n",
       "Df Model:                          15                                         \n",
       "Covariance Type:            nonrobust                                         \n",
       "==============================================================================\n",
       "                 coef    std err          t      P>|t|      [0.025      0.975]\n",
       "------------------------------------------------------------------------------\n",
       "Intercept  -7.201e+06   4.06e+05    -17.715      0.000      -8e+06    -6.4e+06\n",
       "x[0]        3582.7039    201.943     17.741      0.000    3186.444    3978.964\n",
       "x[1]          -0.0364      0.017     -2.179      0.030      -0.069      -0.004\n",
       "x[2]           0.5959      0.015     40.585      0.000       0.567       0.625\n",
       "x[3]       -5577.7978   2512.229     -2.220      0.027   -1.05e+04    -648.211\n",
       "x[4]        2.029e+04   7915.992      2.563      0.011    4754.873    3.58e+04\n",
       "x[5]        6203.1532   1.57e+04      0.395      0.693   -2.46e+04     3.7e+04\n",
       "x[6]       -8504.5739   1.05e+04     -0.808      0.419   -2.91e+04    1.21e+04\n",
       "x[7]       -5210.9224   2322.398     -2.244      0.025   -9768.016    -653.828\n",
       "x[8]       -3935.8774   2418.645     -1.627      0.104   -8681.831     810.076\n",
       "x[9]          7.6e+04   5529.175     13.745      0.000    6.51e+04    8.68e+04\n",
       "x[10]       1.672e+04   5289.319      3.160      0.002    6337.309    2.71e+04\n",
       "x[11]       5.675e+04   2982.476     19.029      0.000    5.09e+04    6.26e+04\n",
       "x[12]       7952.5339   4961.751      1.603      0.109   -1783.595    1.77e+04\n",
       "x[13]       3307.3299   3476.214      0.951      0.342   -3513.825    1.01e+04\n",
       "x[14]       2101.5975   3023.855      0.695      0.487   -3831.922    8035.117\n",
       "==============================================================================\n",
       "Omnibus:                      728.287   Durbin-Watson:                   1.730\n",
       "Prob(Omnibus):                  0.000   Jarque-Bera (JB):            23729.204\n",
       "Skew:                           2.687   Prob(JB):                         0.00\n",
       "Kurtosis:                      25.536   Cond. No.                     5.47e+07\n",
       "==============================================================================\n",
       "\n",
       "Notes:\n",
       "[1] Standard Errors assume that the covariance matrix of the errors is correctly specified.\n",
       "[2] The condition number is large, 5.47e+07. This might indicate that there are\n",
       "strong multicollinearity or other numerical problems.\n",
       "\"\"\""
      ]
     },
     "execution_count": 46,
     "metadata": {},
     "output_type": "execute_result"
    }
   ],
   "source": [
    "import statsmodels.formula.api as smf\n",
    "model1=smf.ols('y~x',data=df).fit()\n",
    "model1.summary()"
   ]
  },
  {
   "cell_type": "markdown",
   "id": "5690d883",
   "metadata": {
    "papermill": {
     "duration": 0.058441,
     "end_time": "2022-07-21T17:11:10.462769",
     "exception": false,
     "start_time": "2022-07-21T17:11:10.404328",
     "status": "completed"
    },
    "tags": []
   },
   "source": []
  },
  {
   "cell_type": "markdown",
   "id": "b74f3808",
   "metadata": {
    "papermill": {
     "duration": 0.059,
     "end_time": "2022-07-21T17:11:10.582940",
     "exception": false,
     "start_time": "2022-07-21T17:11:10.523940",
     "status": "completed"
    },
    "tags": []
   },
   "source": [
    "## Saving model and Converting"
   ]
  },
  {
   "cell_type": "code",
   "execution_count": 47,
   "id": "c412f181",
   "metadata": {
    "execution": {
     "iopub.execute_input": "2022-07-21T17:11:10.702823Z",
     "iopub.status.busy": "2022-07-21T17:11:10.702573Z",
     "iopub.status.idle": "2022-07-21T17:11:10.706182Z",
     "shell.execute_reply": "2022-07-21T17:11:10.705355Z"
    },
    "papermill": {
     "duration": 0.065695,
     "end_time": "2022-07-21T17:11:10.707992",
     "exception": false,
     "start_time": "2022-07-21T17:11:10.642297",
     "status": "completed"
    },
    "tags": []
   },
   "outputs": [],
   "source": [
    "from joblib import dump, load"
   ]
  },
  {
   "cell_type": "code",
   "execution_count": 48,
   "id": "2e93ac1a",
   "metadata": {
    "execution": {
     "iopub.execute_input": "2022-07-21T17:11:10.827768Z",
     "iopub.status.busy": "2022-07-21T17:11:10.827204Z",
     "iopub.status.idle": "2022-07-21T17:11:10.833575Z",
     "shell.execute_reply": "2022-07-21T17:11:10.832950Z"
    },
    "papermill": {
     "duration": 0.068542,
     "end_time": "2022-07-21T17:11:10.835390",
     "exception": false,
     "start_time": "2022-07-21T17:11:10.766848",
     "status": "completed"
    },
    "tags": []
   },
   "outputs": [
    {
     "data": {
      "text/plain": [
       "['motor_cycle_prediction.joblib']"
      ]
     },
     "execution_count": 48,
     "metadata": {},
     "output_type": "execute_result"
    }
   ],
   "source": [
    "dump(lin_reg,\"motor_cycle_prediction.joblib\")"
   ]
  },
  {
   "cell_type": "code",
   "execution_count": 49,
   "id": "2f1f4814",
   "metadata": {
    "execution": {
     "iopub.execute_input": "2022-07-21T17:11:10.956313Z",
     "iopub.status.busy": "2022-07-21T17:11:10.955713Z",
     "iopub.status.idle": "2022-07-21T17:11:10.959514Z",
     "shell.execute_reply": "2022-07-21T17:11:10.958921Z"
    },
    "papermill": {
     "duration": 0.065942,
     "end_time": "2022-07-21T17:11:10.961294",
     "exception": false,
     "start_time": "2022-07-21T17:11:10.895352",
     "status": "completed"
    },
    "tags": []
   },
   "outputs": [],
   "source": [
    "#Deployment"
   ]
  },
  {
   "cell_type": "code",
   "execution_count": 50,
   "id": "210cc526",
   "metadata": {
    "execution": {
     "iopub.execute_input": "2022-07-21T17:11:11.081998Z",
     "iopub.status.busy": "2022-07-21T17:11:11.081499Z",
     "iopub.status.idle": "2022-07-21T17:11:11.086026Z",
     "shell.execute_reply": "2022-07-21T17:11:11.085450Z"
    },
    "papermill": {
     "duration": 0.066879,
     "end_time": "2022-07-21T17:11:11.087935",
     "exception": false,
     "start_time": "2022-07-21T17:11:11.021056",
     "status": "completed"
    },
    "tags": []
   },
   "outputs": [],
   "source": [
    "loaded_lin=load(\"motor_cycle_prediction.joblib\")"
   ]
  },
  {
   "cell_type": "code",
   "execution_count": 51,
   "id": "88e80a7b",
   "metadata": {
    "execution": {
     "iopub.execute_input": "2022-07-21T17:11:11.212906Z",
     "iopub.status.busy": "2022-07-21T17:11:11.212372Z",
     "iopub.status.idle": "2022-07-21T17:11:11.217017Z",
     "shell.execute_reply": "2022-07-21T17:11:11.216417Z"
    },
    "papermill": {
     "duration": 0.071016,
     "end_time": "2022-07-21T17:11:11.218984",
     "exception": false,
     "start_time": "2022-07-21T17:11:11.147968",
     "status": "completed"
    },
    "tags": []
   },
   "outputs": [],
   "source": [
    "loaded_model=load(\"motor_cycle_prediction.joblib\")"
   ]
  },
  {
   "cell_type": "code",
   "execution_count": 52,
   "id": "4ba9e985",
   "metadata": {
    "execution": {
     "iopub.execute_input": "2022-07-21T17:11:11.339791Z",
     "iopub.status.busy": "2022-07-21T17:11:11.339327Z",
     "iopub.status.idle": "2022-07-21T17:11:11.347536Z",
     "shell.execute_reply": "2022-07-21T17:11:11.346477Z"
    },
    "papermill": {
     "duration": 0.071189,
     "end_time": "2022-07-21T17:11:11.349779",
     "exception": false,
     "start_time": "2022-07-21T17:11:11.278590",
     "status": "completed"
    },
    "tags": []
   },
   "outputs": [
    {
     "name": "stderr",
     "output_type": "stream",
     "text": [
      "/opt/conda/lib/python3.7/site-packages/sklearn/base.py:451: UserWarning: X does not have valid feature names, but LinearRegression was fitted with feature names\n",
      "  \"X does not have valid feature names, but\"\n"
     ]
    },
    {
     "data": {
      "text/plain": [
       "array([126979.29749026])"
      ]
     },
     "execution_count": 52,
     "metadata": {},
     "output_type": "execute_result"
    }
   ],
   "source": [
    "loaded_model.predict([[2019,350,72752.5,0,0,0,1,0,0,0,0,1,0,0,0]])"
   ]
  },
  {
   "cell_type": "code",
   "execution_count": null,
   "id": "f73b89f9",
   "metadata": {
    "papermill": {
     "duration": 0.059508,
     "end_time": "2022-07-21T17:11:11.469992",
     "exception": false,
     "start_time": "2022-07-21T17:11:11.410484",
     "status": "completed"
    },
    "tags": []
   },
   "outputs": [],
   "source": []
  }
 ],
 "metadata": {
  "kernelspec": {
   "display_name": "Python 3",
   "language": "python",
   "name": "python3"
  },
  "language_info": {
   "codemirror_mode": {
    "name": "ipython",
    "version": 3
   },
   "file_extension": ".py",
   "mimetype": "text/x-python",
   "name": "python",
   "nbconvert_exporter": "python",
   "pygments_lexer": "ipython3",
   "version": "3.7.12"
  },
  "papermill": {
   "default_parameters": {},
   "duration": 19.264323,
   "end_time": "2022-07-21T17:11:12.252233",
   "environment_variables": {},
   "exception": null,
   "input_path": "__notebook__.ipynb",
   "output_path": "__notebook__.ipynb",
   "parameters": {},
   "start_time": "2022-07-21T17:10:52.987910",
   "version": "2.3.4"
  }
 },
 "nbformat": 4,
 "nbformat_minor": 5
}
