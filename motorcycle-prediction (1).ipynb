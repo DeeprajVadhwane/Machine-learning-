{
 "cells": [
  {
   "cell_type": "code",
   "execution_count": 1,
   "id": "32edb0c5",
   "metadata": {
    "_cell_guid": "b1076dfc-b9ad-4769-8c92-a6c4dae69d19",
    "_uuid": "8f2839f25d086af736a60e9eeb907d3b93b6e0e5",
    "execution": {
     "iopub.execute_input": "2022-05-23T18:31:41.288343Z",
     "iopub.status.busy": "2022-05-23T18:31:41.287743Z",
     "iopub.status.idle": "2022-05-23T18:31:41.306043Z",
     "shell.execute_reply": "2022-05-23T18:31:41.305488Z"
    },
    "papermill": {
     "duration": 0.066956,
     "end_time": "2022-05-23T18:31:41.308521",
     "exception": false,
     "start_time": "2022-05-23T18:31:41.241565",
     "status": "completed"
    },
    "tags": []
   },
   "outputs": [
    {
     "name": "stdout",
     "output_type": "stream",
     "text": [
      "/kaggle/input/motorcycle-dataset/BIKE DETAILS.csv\n"
     ]
    }
   ],
   "source": [
    "# This Python 3 environment comes with many helpful analytics libraries installed\n",
    "# It is defined by the kaggle/python Docker image: https://github.com/kaggle/docker-python\n",
    "# For example, here's several helpful packages to load\n",
    "\n",
    "import numpy as np # linear algebra\n",
    "import pandas as pd # data processing, CSV file I/O (e.g. pd.read_csv)\n",
    "\n",
    "# Input data files are available in the read-only \"../input/\" directory\n",
    "# For example, running this (by clicking run or pressing Shift+Enter) will list all files under the input directory\n",
    "\n",
    "import os\n",
    "for dirname, _, filenames in os.walk('/kaggle/input'):\n",
    "    for filename in filenames:\n",
    "        print(os.path.join(dirname, filename))\n",
    "\n",
    "# You can write up to 20GB to the current directory (/kaggle/working/) that gets preserved as output when you create a version using \"Save & Run All\" \n",
    "# You can also write temporary files to /kaggle/temp/, but they won't be saved outside of the current session"
   ]
  },
  {
   "cell_type": "code",
   "execution_count": 2,
   "id": "3cece17d",
   "metadata": {
    "execution": {
     "iopub.execute_input": "2022-05-23T18:31:41.399424Z",
     "iopub.status.busy": "2022-05-23T18:31:41.398929Z",
     "iopub.status.idle": "2022-05-23T18:31:42.829062Z",
     "shell.execute_reply": "2022-05-23T18:31:42.828235Z"
    },
    "papermill": {
     "duration": 1.47701,
     "end_time": "2022-05-23T18:31:42.831370",
     "exception": false,
     "start_time": "2022-05-23T18:31:41.354360",
     "status": "completed"
    },
    "tags": []
   },
   "outputs": [],
   "source": [
    "import seaborn as sns\n",
    "import matplotlib.pyplot as plt\n",
    "import pandas as pd\n",
    "from sklearn.linear_model import LinearRegression\n",
    "from sklearn.model_selection import train_test_split\n",
    "from sklearn.linear_model import LinearRegression\n",
    "from sklearn.preprocessing import PolynomialFeatures\n",
    "from sklearn.tree import DecisionTreeRegressor"
   ]
  },
  {
   "cell_type": "markdown",
   "id": "13cbe07c",
   "metadata": {
    "papermill": {
     "duration": 0.042709,
     "end_time": "2022-05-23T18:31:42.919089",
     "exception": false,
     "start_time": "2022-05-23T18:31:42.876380",
     "status": "completed"
    },
    "tags": []
   },
   "source": [
    "# Data Acquring"
   ]
  },
  {
   "cell_type": "code",
   "execution_count": 3,
   "id": "3d77acd3",
   "metadata": {
    "execution": {
     "iopub.execute_input": "2022-05-23T18:31:43.007226Z",
     "iopub.status.busy": "2022-05-23T18:31:43.006961Z",
     "iopub.status.idle": "2022-05-23T18:31:43.021807Z",
     "shell.execute_reply": "2022-05-23T18:31:43.021199Z"
    },
    "papermill": {
     "duration": 0.061858,
     "end_time": "2022-05-23T18:31:43.023791",
     "exception": false,
     "start_time": "2022-05-23T18:31:42.961933",
     "status": "completed"
    },
    "tags": []
   },
   "outputs": [],
   "source": [
    "df=pd.read_csv(\"../input/motorcycle-dataset/BIKE DETAILS.csv\")"
   ]
  },
  {
   "cell_type": "code",
   "execution_count": 4,
   "id": "12ebd7fd",
   "metadata": {
    "execution": {
     "iopub.execute_input": "2022-05-23T18:31:43.112778Z",
     "iopub.status.busy": "2022-05-23T18:31:43.112313Z",
     "iopub.status.idle": "2022-05-23T18:31:43.140481Z",
     "shell.execute_reply": "2022-05-23T18:31:43.139901Z"
    },
    "papermill": {
     "duration": 0.075872,
     "end_time": "2022-05-23T18:31:43.143188",
     "exception": false,
     "start_time": "2022-05-23T18:31:43.067316",
     "status": "completed"
    },
    "tags": []
   },
   "outputs": [
    {
     "data": {
      "text/html": [
       "<div>\n",
       "<style scoped>\n",
       "    .dataframe tbody tr th:only-of-type {\n",
       "        vertical-align: middle;\n",
       "    }\n",
       "\n",
       "    .dataframe tbody tr th {\n",
       "        vertical-align: top;\n",
       "    }\n",
       "\n",
       "    .dataframe thead th {\n",
       "        text-align: right;\n",
       "    }\n",
       "</style>\n",
       "<table border=\"1\" class=\"dataframe\">\n",
       "  <thead>\n",
       "    <tr style=\"text-align: right;\">\n",
       "      <th></th>\n",
       "      <th>name</th>\n",
       "      <th>selling_price</th>\n",
       "      <th>year</th>\n",
       "      <th>seller_type</th>\n",
       "      <th>owner</th>\n",
       "      <th>km_driven</th>\n",
       "      <th>ex_showroom_price</th>\n",
       "    </tr>\n",
       "  </thead>\n",
       "  <tbody>\n",
       "    <tr>\n",
       "      <th>0</th>\n",
       "      <td>Royal Enfield Classic 350</td>\n",
       "      <td>175000</td>\n",
       "      <td>2019</td>\n",
       "      <td>Individual</td>\n",
       "      <td>1st owner</td>\n",
       "      <td>350</td>\n",
       "      <td>NaN</td>\n",
       "    </tr>\n",
       "    <tr>\n",
       "      <th>1</th>\n",
       "      <td>Honda Dio</td>\n",
       "      <td>45000</td>\n",
       "      <td>2017</td>\n",
       "      <td>Individual</td>\n",
       "      <td>1st owner</td>\n",
       "      <td>5650</td>\n",
       "      <td>NaN</td>\n",
       "    </tr>\n",
       "    <tr>\n",
       "      <th>2</th>\n",
       "      <td>Royal Enfield Classic Gunmetal Grey</td>\n",
       "      <td>150000</td>\n",
       "      <td>2018</td>\n",
       "      <td>Individual</td>\n",
       "      <td>1st owner</td>\n",
       "      <td>12000</td>\n",
       "      <td>148114.0</td>\n",
       "    </tr>\n",
       "    <tr>\n",
       "      <th>3</th>\n",
       "      <td>Yamaha Fazer FI V 2.0 [2016-2018]</td>\n",
       "      <td>65000</td>\n",
       "      <td>2015</td>\n",
       "      <td>Individual</td>\n",
       "      <td>1st owner</td>\n",
       "      <td>23000</td>\n",
       "      <td>89643.0</td>\n",
       "    </tr>\n",
       "    <tr>\n",
       "      <th>4</th>\n",
       "      <td>Yamaha SZ [2013-2014]</td>\n",
       "      <td>20000</td>\n",
       "      <td>2011</td>\n",
       "      <td>Individual</td>\n",
       "      <td>2nd owner</td>\n",
       "      <td>21000</td>\n",
       "      <td>NaN</td>\n",
       "    </tr>\n",
       "    <tr>\n",
       "      <th>...</th>\n",
       "      <td>...</td>\n",
       "      <td>...</td>\n",
       "      <td>...</td>\n",
       "      <td>...</td>\n",
       "      <td>...</td>\n",
       "      <td>...</td>\n",
       "      <td>...</td>\n",
       "    </tr>\n",
       "    <tr>\n",
       "      <th>1056</th>\n",
       "      <td>Activa 3g</td>\n",
       "      <td>17000</td>\n",
       "      <td>2010</td>\n",
       "      <td>Individual</td>\n",
       "      <td>1st owner</td>\n",
       "      <td>500000</td>\n",
       "      <td>52000.0</td>\n",
       "    </tr>\n",
       "    <tr>\n",
       "      <th>1057</th>\n",
       "      <td>Honda CB twister</td>\n",
       "      <td>16000</td>\n",
       "      <td>2012</td>\n",
       "      <td>Individual</td>\n",
       "      <td>1st owner</td>\n",
       "      <td>33000</td>\n",
       "      <td>51000.0</td>\n",
       "    </tr>\n",
       "    <tr>\n",
       "      <th>1058</th>\n",
       "      <td>Bajaj Discover 125</td>\n",
       "      <td>15000</td>\n",
       "      <td>2013</td>\n",
       "      <td>Individual</td>\n",
       "      <td>2nd owner</td>\n",
       "      <td>35000</td>\n",
       "      <td>57000.0</td>\n",
       "    </tr>\n",
       "    <tr>\n",
       "      <th>1059</th>\n",
       "      <td>Honda CB Shine</td>\n",
       "      <td>12000</td>\n",
       "      <td>2009</td>\n",
       "      <td>Individual</td>\n",
       "      <td>1st owner</td>\n",
       "      <td>53000</td>\n",
       "      <td>58000.0</td>\n",
       "    </tr>\n",
       "    <tr>\n",
       "      <th>1060</th>\n",
       "      <td>Bajaj Pulsar 150</td>\n",
       "      <td>10000</td>\n",
       "      <td>2008</td>\n",
       "      <td>Individual</td>\n",
       "      <td>1st owner</td>\n",
       "      <td>92233</td>\n",
       "      <td>75000.0</td>\n",
       "    </tr>\n",
       "  </tbody>\n",
       "</table>\n",
       "<p>1061 rows × 7 columns</p>\n",
       "</div>"
      ],
      "text/plain": [
       "                                     name  selling_price  year seller_type  \\\n",
       "0               Royal Enfield Classic 350         175000  2019  Individual   \n",
       "1                               Honda Dio          45000  2017  Individual   \n",
       "2     Royal Enfield Classic Gunmetal Grey         150000  2018  Individual   \n",
       "3       Yamaha Fazer FI V 2.0 [2016-2018]          65000  2015  Individual   \n",
       "4                   Yamaha SZ [2013-2014]          20000  2011  Individual   \n",
       "...                                   ...            ...   ...         ...   \n",
       "1056                            Activa 3g          17000  2010  Individual   \n",
       "1057                     Honda CB twister          16000  2012  Individual   \n",
       "1058                   Bajaj Discover 125          15000  2013  Individual   \n",
       "1059                       Honda CB Shine          12000  2009  Individual   \n",
       "1060                     Bajaj Pulsar 150          10000  2008  Individual   \n",
       "\n",
       "          owner  km_driven  ex_showroom_price  \n",
       "0     1st owner        350                NaN  \n",
       "1     1st owner       5650                NaN  \n",
       "2     1st owner      12000           148114.0  \n",
       "3     1st owner      23000            89643.0  \n",
       "4     2nd owner      21000                NaN  \n",
       "...         ...        ...                ...  \n",
       "1056  1st owner     500000            52000.0  \n",
       "1057  1st owner      33000            51000.0  \n",
       "1058  2nd owner      35000            57000.0  \n",
       "1059  1st owner      53000            58000.0  \n",
       "1060  1st owner      92233            75000.0  \n",
       "\n",
       "[1061 rows x 7 columns]"
      ]
     },
     "execution_count": 4,
     "metadata": {},
     "output_type": "execute_result"
    }
   ],
   "source": [
    "df"
   ]
  },
  {
   "cell_type": "code",
   "execution_count": 5,
   "id": "dfadd75f",
   "metadata": {
    "execution": {
     "iopub.execute_input": "2022-05-23T18:31:43.232395Z",
     "iopub.status.busy": "2022-05-23T18:31:43.231875Z",
     "iopub.status.idle": "2022-05-23T18:31:43.239273Z",
     "shell.execute_reply": "2022-05-23T18:31:43.238662Z"
    },
    "papermill": {
     "duration": 0.054008,
     "end_time": "2022-05-23T18:31:43.240985",
     "exception": false,
     "start_time": "2022-05-23T18:31:43.186977",
     "status": "completed"
    },
    "tags": []
   },
   "outputs": [
    {
     "data": {
      "text/plain": [
       "name                   0\n",
       "selling_price          0\n",
       "year                   0\n",
       "seller_type            0\n",
       "owner                  0\n",
       "km_driven              0\n",
       "ex_showroom_price    435\n",
       "dtype: int64"
      ]
     },
     "execution_count": 5,
     "metadata": {},
     "output_type": "execute_result"
    }
   ],
   "source": [
    "df.isnull().sum()"
   ]
  },
  {
   "cell_type": "code",
   "execution_count": 6,
   "id": "00739dcf",
   "metadata": {
    "execution": {
     "iopub.execute_input": "2022-05-23T18:31:43.330323Z",
     "iopub.status.busy": "2022-05-23T18:31:43.329856Z",
     "iopub.status.idle": "2022-05-23T18:31:43.360181Z",
     "shell.execute_reply": "2022-05-23T18:31:43.359603Z"
    },
    "papermill": {
     "duration": 0.077215,
     "end_time": "2022-05-23T18:31:43.361912",
     "exception": false,
     "start_time": "2022-05-23T18:31:43.284697",
     "status": "completed"
    },
    "tags": []
   },
   "outputs": [
    {
     "data": {
      "text/html": [
       "<div>\n",
       "<style scoped>\n",
       "    .dataframe tbody tr th:only-of-type {\n",
       "        vertical-align: middle;\n",
       "    }\n",
       "\n",
       "    .dataframe tbody tr th {\n",
       "        vertical-align: top;\n",
       "    }\n",
       "\n",
       "    .dataframe thead th {\n",
       "        text-align: right;\n",
       "    }\n",
       "</style>\n",
       "<table border=\"1\" class=\"dataframe\">\n",
       "  <thead>\n",
       "    <tr style=\"text-align: right;\">\n",
       "      <th></th>\n",
       "      <th>selling_price</th>\n",
       "      <th>year</th>\n",
       "      <th>km_driven</th>\n",
       "      <th>ex_showroom_price</th>\n",
       "    </tr>\n",
       "  </thead>\n",
       "  <tbody>\n",
       "    <tr>\n",
       "      <th>count</th>\n",
       "      <td>1061.000000</td>\n",
       "      <td>1061.000000</td>\n",
       "      <td>1061.000000</td>\n",
       "      <td>6.260000e+02</td>\n",
       "    </tr>\n",
       "    <tr>\n",
       "      <th>mean</th>\n",
       "      <td>59638.151744</td>\n",
       "      <td>2013.867107</td>\n",
       "      <td>34359.833176</td>\n",
       "      <td>8.795871e+04</td>\n",
       "    </tr>\n",
       "    <tr>\n",
       "      <th>std</th>\n",
       "      <td>56304.291973</td>\n",
       "      <td>4.301191</td>\n",
       "      <td>51623.152702</td>\n",
       "      <td>7.749659e+04</td>\n",
       "    </tr>\n",
       "    <tr>\n",
       "      <th>min</th>\n",
       "      <td>5000.000000</td>\n",
       "      <td>1988.000000</td>\n",
       "      <td>350.000000</td>\n",
       "      <td>3.049000e+04</td>\n",
       "    </tr>\n",
       "    <tr>\n",
       "      <th>25%</th>\n",
       "      <td>28000.000000</td>\n",
       "      <td>2011.000000</td>\n",
       "      <td>13500.000000</td>\n",
       "      <td>5.485200e+04</td>\n",
       "    </tr>\n",
       "    <tr>\n",
       "      <th>50%</th>\n",
       "      <td>45000.000000</td>\n",
       "      <td>2015.000000</td>\n",
       "      <td>25000.000000</td>\n",
       "      <td>7.275250e+04</td>\n",
       "    </tr>\n",
       "    <tr>\n",
       "      <th>75%</th>\n",
       "      <td>70000.000000</td>\n",
       "      <td>2017.000000</td>\n",
       "      <td>43000.000000</td>\n",
       "      <td>8.703150e+04</td>\n",
       "    </tr>\n",
       "    <tr>\n",
       "      <th>max</th>\n",
       "      <td>760000.000000</td>\n",
       "      <td>2020.000000</td>\n",
       "      <td>880000.000000</td>\n",
       "      <td>1.278000e+06</td>\n",
       "    </tr>\n",
       "  </tbody>\n",
       "</table>\n",
       "</div>"
      ],
      "text/plain": [
       "       selling_price         year      km_driven  ex_showroom_price\n",
       "count    1061.000000  1061.000000    1061.000000       6.260000e+02\n",
       "mean    59638.151744  2013.867107   34359.833176       8.795871e+04\n",
       "std     56304.291973     4.301191   51623.152702       7.749659e+04\n",
       "min      5000.000000  1988.000000     350.000000       3.049000e+04\n",
       "25%     28000.000000  2011.000000   13500.000000       5.485200e+04\n",
       "50%     45000.000000  2015.000000   25000.000000       7.275250e+04\n",
       "75%     70000.000000  2017.000000   43000.000000       8.703150e+04\n",
       "max    760000.000000  2020.000000  880000.000000       1.278000e+06"
      ]
     },
     "execution_count": 6,
     "metadata": {},
     "output_type": "execute_result"
    }
   ],
   "source": [
    "df.describe()"
   ]
  },
  {
   "cell_type": "code",
   "execution_count": 7,
   "id": "5e8f3ca0",
   "metadata": {
    "execution": {
     "iopub.execute_input": "2022-05-23T18:31:43.453921Z",
     "iopub.status.busy": "2022-05-23T18:31:43.453511Z",
     "iopub.status.idle": "2022-05-23T18:31:43.468581Z",
     "shell.execute_reply": "2022-05-23T18:31:43.467974Z"
    },
    "papermill": {
     "duration": 0.063977,
     "end_time": "2022-05-23T18:31:43.470468",
     "exception": false,
     "start_time": "2022-05-23T18:31:43.406491",
     "status": "completed"
    },
    "tags": []
   },
   "outputs": [
    {
     "name": "stdout",
     "output_type": "stream",
     "text": [
      "<class 'pandas.core.frame.DataFrame'>\n",
      "RangeIndex: 1061 entries, 0 to 1060\n",
      "Data columns (total 7 columns):\n",
      " #   Column             Non-Null Count  Dtype  \n",
      "---  ------             --------------  -----  \n",
      " 0   name               1061 non-null   object \n",
      " 1   selling_price      1061 non-null   int64  \n",
      " 2   year               1061 non-null   int64  \n",
      " 3   seller_type        1061 non-null   object \n",
      " 4   owner              1061 non-null   object \n",
      " 5   km_driven          1061 non-null   int64  \n",
      " 6   ex_showroom_price  626 non-null    float64\n",
      "dtypes: float64(1), int64(3), object(3)\n",
      "memory usage: 58.1+ KB\n"
     ]
    }
   ],
   "source": [
    "df.info()"
   ]
  },
  {
   "cell_type": "markdown",
   "id": "0d59e705",
   "metadata": {
    "papermill": {
     "duration": 0.044454,
     "end_time": "2022-05-23T18:31:43.559721",
     "exception": false,
     "start_time": "2022-05-23T18:31:43.515267",
     "status": "completed"
    },
    "tags": []
   },
   "source": [
    "# Data Cleaning\n",
    "**** Missing values"
   ]
  },
  {
   "cell_type": "code",
   "execution_count": 8,
   "id": "d1860d89",
   "metadata": {
    "execution": {
     "iopub.execute_input": "2022-05-23T18:31:43.651045Z",
     "iopub.status.busy": "2022-05-23T18:31:43.650207Z",
     "iopub.status.idle": "2022-05-23T18:31:43.656174Z",
     "shell.execute_reply": "2022-05-23T18:31:43.655300Z"
    },
    "papermill": {
     "duration": 0.053912,
     "end_time": "2022-05-23T18:31:43.658270",
     "exception": false,
     "start_time": "2022-05-23T18:31:43.604358",
     "status": "completed"
    },
    "tags": []
   },
   "outputs": [],
   "source": [
    "df['ex_showroom_price'].fillna(np.round(df['ex_showroom_price'].mean(),2),inplace=True)"
   ]
  },
  {
   "cell_type": "code",
   "execution_count": 9,
   "id": "89cc3118",
   "metadata": {
    "execution": {
     "iopub.execute_input": "2022-05-23T18:31:43.749481Z",
     "iopub.status.busy": "2022-05-23T18:31:43.749037Z",
     "iopub.status.idle": "2022-05-23T18:31:43.757268Z",
     "shell.execute_reply": "2022-05-23T18:31:43.756408Z"
    },
    "papermill": {
     "duration": 0.055987,
     "end_time": "2022-05-23T18:31:43.759082",
     "exception": false,
     "start_time": "2022-05-23T18:31:43.703095",
     "status": "completed"
    },
    "tags": []
   },
   "outputs": [
    {
     "data": {
      "text/plain": [
       "0        87958.71\n",
       "1        87958.71\n",
       "2       148114.00\n",
       "3        89643.00\n",
       "4        87958.71\n",
       "          ...    \n",
       "1056     52000.00\n",
       "1057     51000.00\n",
       "1058     57000.00\n",
       "1059     58000.00\n",
       "1060     75000.00\n",
       "Name: ex_showroom_price, Length: 1061, dtype: float64"
      ]
     },
     "execution_count": 9,
     "metadata": {},
     "output_type": "execute_result"
    }
   ],
   "source": [
    "np.round(df['ex_showroom_price'],2)"
   ]
  },
  {
   "cell_type": "markdown",
   "id": "3b4ed82f",
   "metadata": {
    "execution": {
     "iopub.execute_input": "2022-05-23T17:57:45.32964Z",
     "iopub.status.busy": "2022-05-23T17:57:45.328695Z",
     "iopub.status.idle": "2022-05-23T17:57:45.334375Z",
     "shell.execute_reply": "2022-05-23T17:57:45.33356Z",
     "shell.execute_reply.started": "2022-05-23T17:57:45.329605Z"
    },
    "papermill": {
     "duration": 0.045519,
     "end_time": "2022-05-23T18:31:43.849917",
     "exception": false,
     "start_time": "2022-05-23T18:31:43.804398",
     "status": "completed"
    },
    "tags": []
   },
   "source": [
    "# DATA PREPROCESSING\n",
    "** EDA"
   ]
  },
  {
   "cell_type": "code",
   "execution_count": 10,
   "id": "5bc93d8f",
   "metadata": {
    "execution": {
     "iopub.execute_input": "2022-05-23T18:31:43.941710Z",
     "iopub.status.busy": "2022-05-23T18:31:43.941442Z",
     "iopub.status.idle": "2022-05-23T18:31:44.244218Z",
     "shell.execute_reply": "2022-05-23T18:31:44.243421Z"
    },
    "papermill": {
     "duration": 0.351148,
     "end_time": "2022-05-23T18:31:44.246576",
     "exception": false,
     "start_time": "2022-05-23T18:31:43.895428",
     "status": "completed"
    },
    "tags": []
   },
   "outputs": [
    {
     "data": {
      "text/plain": [
       "Text(0.5, 0, 'Count')"
      ]
     },
     "execution_count": 10,
     "metadata": {},
     "output_type": "execute_result"
    },
    {
     "data": {
      "image/png": "[encoded data removed]",
      "text/plain": [
       "<Figure size 720x576 with 1 Axes>"
      ]
     },
     "metadata": {
      "needs_background": "light"
     },
     "output_type": "display_data"
    }
   ],
   "source": [
    "top_bike_company = df['name'].value_counts().head(10)\n",
    "plt.figure(figsize=(10, 8))\n",
    "sns.barplot(x = top_bike_company, y = top_bike_company.index)\n",
    "plt.ylabel('Name of bike')\n",
    "plt.title('Top 10 bike company')\n",
    "plt.xlabel('Count')"
   ]
  },
  {
   "cell_type": "code",
   "execution_count": 11,
   "id": "636e977b",
   "metadata": {
    "execution": {
     "iopub.execute_input": "2022-05-23T18:31:44.342223Z",
     "iopub.status.busy": "2022-05-23T18:31:44.341956Z",
     "iopub.status.idle": "2022-05-23T18:31:44.550259Z",
     "shell.execute_reply": "2022-05-23T18:31:44.549392Z"
    },
    "papermill": {
     "duration": 0.259107,
     "end_time": "2022-05-23T18:31:44.552482",
     "exception": false,
     "start_time": "2022-05-23T18:31:44.293375",
     "status": "completed"
    },
    "tags": []
   },
   "outputs": [
    {
     "name": "stderr",
     "output_type": "stream",
     "text": [
      "/opt/conda/lib/python3.7/site-packages/seaborn/distributions.py:2619: FutureWarning: `distplot` is a deprecated function and will be removed in a future version. Please adapt your code to use either `displot` (a figure-level function with similar flexibility) or `histplot` (an axes-level function for histograms).\n",
      "  warnings.warn(msg, FutureWarning)\n"
     ]
    },
    {
     "data": {
      "text/plain": [
       "<AxesSubplot:xlabel='selling_price', ylabel='Density'>"
      ]
     },
     "execution_count": 11,
     "metadata": {},
     "output_type": "execute_result"
    },
    {
     "data": {
      "image/png": "[encoded data removed]",
      "text/plain": [
       "<Figure size 432x288 with 1 Axes>"
      ]
     },
     "metadata": {
      "needs_background": "light"
     },
     "output_type": "display_data"
    }
   ],
   "source": [
    "sns.distplot(df['selling_price'].value_counts())"
   ]
  },
  {
   "cell_type": "code",
   "execution_count": 12,
   "id": "7bb56486",
   "metadata": {
    "execution": {
     "iopub.execute_input": "2022-05-23T18:31:44.651142Z",
     "iopub.status.busy": "2022-05-23T18:31:44.650353Z",
     "iopub.status.idle": "2022-05-23T18:31:44.801951Z",
     "shell.execute_reply": "2022-05-23T18:31:44.801141Z"
    },
    "papermill": {
     "duration": 0.203241,
     "end_time": "2022-05-23T18:31:44.804063",
     "exception": false,
     "start_time": "2022-05-23T18:31:44.600822",
     "status": "completed"
    },
    "tags": []
   },
   "outputs": [
    {
     "data": {
      "text/plain": [
       "<AxesSubplot:xlabel='year', ylabel='count'>"
      ]
     },
     "execution_count": 12,
     "metadata": {},
     "output_type": "execute_result"
    },
    {
     "data": {
      "image/png": "[encoded data removed]",
      "text/plain": [
       "<Figure size 432x288 with 1 Axes>"
      ]
     },
     "metadata": {
      "needs_background": "light"
     },
     "output_type": "display_data"
    }
   ],
   "source": [
    "sns.countplot(x=df['year'].head(10))"
   ]
  },
  {
   "cell_type": "code",
   "execution_count": 13,
   "id": "e5db2aa5",
   "metadata": {
    "execution": {
     "iopub.execute_input": "2022-05-23T18:31:44.905714Z",
     "iopub.status.busy": "2022-05-23T18:31:44.905444Z",
     "iopub.status.idle": "2022-05-23T18:31:45.010715Z",
     "shell.execute_reply": "2022-05-23T18:31:45.009788Z"
    },
    "papermill": {
     "duration": 0.159008,
     "end_time": "2022-05-23T18:31:45.013377",
     "exception": false,
     "start_time": "2022-05-23T18:31:44.854369",
     "status": "completed"
    },
    "tags": []
   },
   "outputs": [
    {
     "data": {
      "text/plain": [
       "<AxesSubplot:xlabel='seller_type', ylabel='count'>"
      ]
     },
     "execution_count": 13,
     "metadata": {},
     "output_type": "execute_result"
    },
    {
     "data": {
      "image/png": "[encoded data removed]",
      "text/plain": [
       "<Figure size 432x288 with 1 Axes>"
      ]
     },
     "metadata": {
      "needs_background": "light"
     },
     "output_type": "display_data"
    }
   ],
   "source": [
    "sns.countplot(x=df['seller_type'], data=df)"
   ]
  },
  {
   "cell_type": "markdown",
   "id": "88d03130",
   "metadata": {
    "papermill": {
     "duration": 0.051089,
     "end_time": "2022-05-23T18:31:45.116505",
     "exception": false,
     "start_time": "2022-05-23T18:31:45.065416",
     "status": "completed"
    },
    "tags": []
   },
   "source": [
    "# Handling the Categorical values "
   ]
  },
  {
   "cell_type": "code",
   "execution_count": 14,
   "id": "8657f66b",
   "metadata": {
    "execution": {
     "iopub.execute_input": "2022-05-23T18:31:45.219906Z",
     "iopub.status.busy": "2022-05-23T18:31:45.219393Z",
     "iopub.status.idle": "2022-05-23T18:31:45.229749Z",
     "shell.execute_reply": "2022-05-23T18:31:45.228941Z"
    },
    "papermill": {
     "duration": 0.064387,
     "end_time": "2022-05-23T18:31:45.231581",
     "exception": false,
     "start_time": "2022-05-23T18:31:45.167194",
     "status": "completed"
    },
    "tags": []
   },
   "outputs": [
    {
     "data": {
      "text/plain": [
       "\"\\nor\\nfrom sklearn.preprocessing import OneHotEncoder\\nencoder=OneHotEncoder(drop='first')\\nenc=pd.DataFrame(encoder.fit_transform(df[['owner']]).toarray())\\n\""
      ]
     },
     "execution_count": 14,
     "metadata": {},
     "output_type": "execute_result"
    }
   ],
   "source": [
    "df=pd.get_dummies(df,columns=['owner','seller_type'],drop_first=True)\n",
    "'''\n",
    "or\n",
    "from sklearn.preprocessing import OneHotEncoder\n",
    "encoder=OneHotEncoder(drop='first')\n",
    "enc=pd.DataFrame(encoder.fit_transform(df[['owner']]).toarray())\n",
    "'''"
   ]
  },
  {
   "cell_type": "code",
   "execution_count": 15,
   "id": "726cba27",
   "metadata": {
    "execution": {
     "iopub.execute_input": "2022-05-23T18:31:45.335197Z",
     "iopub.status.busy": "2022-05-23T18:31:45.334788Z",
     "iopub.status.idle": "2022-05-23T18:31:45.340552Z",
     "shell.execute_reply": "2022-05-23T18:31:45.340015Z"
    },
    "papermill": {
     "duration": 0.059932,
     "end_time": "2022-05-23T18:31:45.342395",
     "exception": false,
     "start_time": "2022-05-23T18:31:45.282463",
     "status": "completed"
    },
    "tags": []
   },
   "outputs": [],
   "source": [
    "def bike_model(model_name, excl_honda_hero=False):\n",
    "    model_list = []\n",
    "    if excl_honda_hero:\n",
    "        for i in df['name']:\n",
    "            if model_name in i and 'Hero' not in i:\n",
    "                model_list.append(i)\n",
    "        return model_list\n",
    "    else:\n",
    "        for i in df['name']:\n",
    "            if model_name in i:\n",
    "                model_list.append(i)\n",
    "        return model_list\n"
   ]
  },
  {
   "cell_type": "code",
   "execution_count": 16,
   "id": "e4499c37",
   "metadata": {
    "execution": {
     "iopub.execute_input": "2022-05-23T18:31:45.447340Z",
     "iopub.status.busy": "2022-05-23T18:31:45.446912Z",
     "iopub.status.idle": "2022-05-23T18:31:45.454244Z",
     "shell.execute_reply": "2022-05-23T18:31:45.453698Z"
    },
    "papermill": {
     "duration": 0.063023,
     "end_time": "2022-05-23T18:31:45.456130",
     "exception": false,
     "start_time": "2022-05-23T18:31:45.393107",
     "status": "completed"
    },
    "tags": []
   },
   "outputs": [],
   "source": [
    "royal_enfield = bike_model('Royal Enfield')\n",
    "honda = bike_model('Honda',excl_honda_hero=True)\n",
    "bajaj = bike_model('Bajaj')\n",
    "yamaha = bike_model('Yamaha')\n",
    "suzuki = bike_model('Suzuki')\n",
    "hero = bike_model('Hero')\n",
    "tvs = bike_model('TVS')\n",
    "ktm = bike_model('KTM')"
   ]
  },
  {
   "cell_type": "code",
   "execution_count": 17,
   "id": "c74d39e4",
   "metadata": {
    "execution": {
     "iopub.execute_input": "2022-05-23T18:31:45.559779Z",
     "iopub.status.busy": "2022-05-23T18:31:45.559328Z",
     "iopub.status.idle": "2022-05-23T18:31:45.565240Z",
     "shell.execute_reply": "2022-05-23T18:31:45.564688Z"
    },
    "papermill": {
     "duration": 0.059877,
     "end_time": "2022-05-23T18:31:45.567101",
     "exception": false,
     "start_time": "2022-05-23T18:31:45.507224",
     "status": "completed"
    },
    "tags": []
   },
   "outputs": [],
   "source": [
    "def brand(i):\n",
    "    if i in royal_enfield:\n",
    "        return 'Royal Enfield'\n",
    "    elif i in honda:\n",
    "        return 'Honda'\n",
    "    elif i in bajaj:\n",
    "        return 'Bajaj'\n",
    "    elif i in yamaha:\n",
    "        return 'Yamaha'\n",
    "    elif i in hero:\n",
    "        return 'Hero'    \n",
    "    elif i in tvs:\n",
    "        return 'TVS'    \n",
    "    elif i in suzuki:\n",
    "        return 'Suzuki'  \n",
    "    elif i in ktm:\n",
    "        return 'KTM' \n",
    "    else:\n",
    "        return 'Other'"
   ]
  },
  {
   "cell_type": "code",
   "execution_count": 18,
   "id": "e224e7ab",
   "metadata": {
    "execution": {
     "iopub.execute_input": "2022-05-23T18:31:45.671231Z",
     "iopub.status.busy": "2022-05-23T18:31:45.670824Z",
     "iopub.status.idle": "2022-05-23T18:31:45.691655Z",
     "shell.execute_reply": "2022-05-23T18:31:45.690869Z"
    },
    "papermill": {
     "duration": 0.075331,
     "end_time": "2022-05-23T18:31:45.693622",
     "exception": false,
     "start_time": "2022-05-23T18:31:45.618291",
     "status": "completed"
    },
    "tags": []
   },
   "outputs": [
    {
     "data": {
      "text/html": [
       "<div>\n",
       "<style scoped>\n",
       "    .dataframe tbody tr th:only-of-type {\n",
       "        vertical-align: middle;\n",
       "    }\n",
       "\n",
       "    .dataframe tbody tr th {\n",
       "        vertical-align: top;\n",
       "    }\n",
       "\n",
       "    .dataframe thead th {\n",
       "        text-align: right;\n",
       "    }\n",
       "</style>\n",
       "<table border=\"1\" class=\"dataframe\">\n",
       "  <thead>\n",
       "    <tr style=\"text-align: right;\">\n",
       "      <th></th>\n",
       "      <th>name</th>\n",
       "      <th>selling_price</th>\n",
       "      <th>year</th>\n",
       "      <th>km_driven</th>\n",
       "      <th>ex_showroom_price</th>\n",
       "      <th>owner_2nd owner</th>\n",
       "      <th>owner_3rd owner</th>\n",
       "      <th>owner_4th owner</th>\n",
       "      <th>seller_type_Individual</th>\n",
       "      <th>brand</th>\n",
       "    </tr>\n",
       "  </thead>\n",
       "  <tbody>\n",
       "    <tr>\n",
       "      <th>0</th>\n",
       "      <td>Royal Enfield Classic 350</td>\n",
       "      <td>175000</td>\n",
       "      <td>2019</td>\n",
       "      <td>350</td>\n",
       "      <td>87958.71</td>\n",
       "      <td>0</td>\n",
       "      <td>0</td>\n",
       "      <td>0</td>\n",
       "      <td>1</td>\n",
       "      <td>Royal Enfield</td>\n",
       "    </tr>\n",
       "    <tr>\n",
       "      <th>1</th>\n",
       "      <td>Honda Dio</td>\n",
       "      <td>45000</td>\n",
       "      <td>2017</td>\n",
       "      <td>5650</td>\n",
       "      <td>87958.71</td>\n",
       "      <td>0</td>\n",
       "      <td>0</td>\n",
       "      <td>0</td>\n",
       "      <td>1</td>\n",
       "      <td>Honda</td>\n",
       "    </tr>\n",
       "    <tr>\n",
       "      <th>2</th>\n",
       "      <td>Royal Enfield Classic Gunmetal Grey</td>\n",
       "      <td>150000</td>\n",
       "      <td>2018</td>\n",
       "      <td>12000</td>\n",
       "      <td>148114.00</td>\n",
       "      <td>0</td>\n",
       "      <td>0</td>\n",
       "      <td>0</td>\n",
       "      <td>1</td>\n",
       "      <td>Royal Enfield</td>\n",
       "    </tr>\n",
       "    <tr>\n",
       "      <th>3</th>\n",
       "      <td>Yamaha Fazer FI V 2.0 [2016-2018]</td>\n",
       "      <td>65000</td>\n",
       "      <td>2015</td>\n",
       "      <td>23000</td>\n",
       "      <td>89643.00</td>\n",
       "      <td>0</td>\n",
       "      <td>0</td>\n",
       "      <td>0</td>\n",
       "      <td>1</td>\n",
       "      <td>Yamaha</td>\n",
       "    </tr>\n",
       "    <tr>\n",
       "      <th>4</th>\n",
       "      <td>Yamaha SZ [2013-2014]</td>\n",
       "      <td>20000</td>\n",
       "      <td>2011</td>\n",
       "      <td>21000</td>\n",
       "      <td>87958.71</td>\n",
       "      <td>1</td>\n",
       "      <td>0</td>\n",
       "      <td>0</td>\n",
       "      <td>1</td>\n",
       "      <td>Yamaha</td>\n",
       "    </tr>\n",
       "  </tbody>\n",
       "</table>\n",
       "</div>"
      ],
      "text/plain": [
       "                                  name  selling_price  year  km_driven  \\\n",
       "0            Royal Enfield Classic 350         175000  2019        350   \n",
       "1                            Honda Dio          45000  2017       5650   \n",
       "2  Royal Enfield Classic Gunmetal Grey         150000  2018      12000   \n",
       "3    Yamaha Fazer FI V 2.0 [2016-2018]          65000  2015      23000   \n",
       "4                Yamaha SZ [2013-2014]          20000  2011      21000   \n",
       "\n",
       "   ex_showroom_price  owner_2nd owner  owner_3rd owner  owner_4th owner  \\\n",
       "0           87958.71                0                0                0   \n",
       "1           87958.71                0                0                0   \n",
       "2          148114.00                0                0                0   \n",
       "3           89643.00                0                0                0   \n",
       "4           87958.71                1                0                0   \n",
       "\n",
       "   seller_type_Individual          brand  \n",
       "0                       1  Royal Enfield  \n",
       "1                       1          Honda  \n",
       "2                       1  Royal Enfield  \n",
       "3                       1         Yamaha  \n",
       "4                       1         Yamaha  "
      ]
     },
     "execution_count": 18,
     "metadata": {},
     "output_type": "execute_result"
    }
   ],
   "source": [
    "df['brand'] = df['name'].apply(lambda x:brand(x))\n",
    "df.head()"
   ]
  },
  {
   "cell_type": "markdown",
   "id": "c955909a",
   "metadata": {
    "papermill": {
     "duration": 0.051156,
     "end_time": "2022-05-23T18:31:45.796543",
     "exception": false,
     "start_time": "2022-05-23T18:31:45.745387",
     "status": "completed"
    },
    "tags": []
   },
   "source": [
    "Name Column is a categorical Variable so we will drop this Column"
   ]
  },
  {
   "cell_type": "code",
   "execution_count": 19,
   "id": "ee65916c",
   "metadata": {
    "execution": {
     "iopub.execute_input": "2022-05-23T18:31:45.900893Z",
     "iopub.status.busy": "2022-05-23T18:31:45.900459Z",
     "iopub.status.idle": "2022-05-23T18:31:45.905889Z",
     "shell.execute_reply": "2022-05-23T18:31:45.905305Z"
    },
    "papermill": {
     "duration": 0.059983,
     "end_time": "2022-05-23T18:31:45.907725",
     "exception": false,
     "start_time": "2022-05-23T18:31:45.847742",
     "status": "completed"
    },
    "tags": []
   },
   "outputs": [],
   "source": [
    "df=df.drop('name',axis='columns')"
   ]
  },
  {
   "cell_type": "code",
   "execution_count": 20,
   "id": "01c89c06",
   "metadata": {
    "execution": {
     "iopub.execute_input": "2022-05-23T18:31:46.015868Z",
     "iopub.status.busy": "2022-05-23T18:31:46.015217Z",
     "iopub.status.idle": "2022-05-23T18:31:46.022557Z",
     "shell.execute_reply": "2022-05-23T18:31:46.022001Z"
    },
    "papermill": {
     "duration": 0.063821,
     "end_time": "2022-05-23T18:31:46.024413",
     "exception": false,
     "start_time": "2022-05-23T18:31:45.960592",
     "status": "completed"
    },
    "tags": []
   },
   "outputs": [],
   "source": [
    "df= pd.get_dummies(df, columns=['brand'], drop_first=True)"
   ]
  },
  {
   "cell_type": "code",
   "execution_count": 21,
   "id": "e52fbce6",
   "metadata": {
    "execution": {
     "iopub.execute_input": "2022-05-23T18:31:46.130933Z",
     "iopub.status.busy": "2022-05-23T18:31:46.130502Z",
     "iopub.status.idle": "2022-05-23T18:31:46.136028Z",
     "shell.execute_reply": "2022-05-23T18:31:46.135399Z"
    },
    "papermill": {
     "duration": 0.061086,
     "end_time": "2022-05-23T18:31:46.137874",
     "exception": false,
     "start_time": "2022-05-23T18:31:46.076788",
     "status": "completed"
    },
    "tags": []
   },
   "outputs": [],
   "source": [
    "x=df.drop('selling_price',axis='columns')\n",
    "y=df['selling_price']"
   ]
  },
  {
   "cell_type": "markdown",
   "id": "d4cb7d92",
   "metadata": {
    "papermill": {
     "duration": 0.051047,
     "end_time": "2022-05-23T18:31:46.240246",
     "exception": false,
     "start_time": "2022-05-23T18:31:46.189199",
     "status": "completed"
    },
    "tags": []
   },
   "source": [
    "## Train Test Split"
   ]
  },
  {
   "cell_type": "code",
   "execution_count": 22,
   "id": "b343a4db",
   "metadata": {
    "execution": {
     "iopub.execute_input": "2022-05-23T18:31:46.346303Z",
     "iopub.status.busy": "2022-05-23T18:31:46.345706Z",
     "iopub.status.idle": "2022-05-23T18:31:46.351784Z",
     "shell.execute_reply": "2022-05-23T18:31:46.351160Z"
    },
    "papermill": {
     "duration": 0.061816,
     "end_time": "2022-05-23T18:31:46.353681",
     "exception": false,
     "start_time": "2022-05-23T18:31:46.291865",
     "status": "completed"
    },
    "tags": []
   },
   "outputs": [],
   "source": [
    "x_train,x_test,y_train,y_test=train_test_split(x,y,test_size=0.25)"
   ]
  },
  {
   "cell_type": "markdown",
   "id": "7a9b1d02",
   "metadata": {
    "papermill": {
     "duration": 0.051413,
     "end_time": "2022-05-23T18:31:46.456660",
     "exception": false,
     "start_time": "2022-05-23T18:31:46.405247",
     "status": "completed"
    },
    "tags": []
   },
   "source": [
    "# Data Modeling"
   ]
  },
  {
   "cell_type": "code",
   "execution_count": 23,
   "id": "a2d426d1",
   "metadata": {
    "execution": {
     "iopub.execute_input": "2022-05-23T18:31:46.561689Z",
     "iopub.status.busy": "2022-05-23T18:31:46.561392Z",
     "iopub.status.idle": "2022-05-23T18:31:46.592063Z",
     "shell.execute_reply": "2022-05-23T18:31:46.591188Z"
    },
    "papermill": {
     "duration": 0.087192,
     "end_time": "2022-05-23T18:31:46.595287",
     "exception": false,
     "start_time": "2022-05-23T18:31:46.508095",
     "status": "completed"
    },
    "tags": []
   },
   "outputs": [
    {
     "data": {
      "text/plain": [
       "LinearRegression()"
      ]
     },
     "execution_count": 23,
     "metadata": {},
     "output_type": "execute_result"
    }
   ],
   "source": [
    "lin_reg=LinearRegression()\n",
    "lin_reg.fit(x_train,y_train)"
   ]
  },
  {
   "cell_type": "code",
   "execution_count": 24,
   "id": "17d9de5f",
   "metadata": {
    "execution": {
     "iopub.execute_input": "2022-05-23T18:31:46.748498Z",
     "iopub.status.busy": "2022-05-23T18:31:46.748210Z",
     "iopub.status.idle": "2022-05-23T18:31:46.759411Z",
     "shell.execute_reply": "2022-05-23T18:31:46.758474Z"
    },
    "papermill": {
     "duration": 0.071788,
     "end_time": "2022-05-23T18:31:46.762716",
     "exception": false,
     "start_time": "2022-05-23T18:31:46.690928",
     "status": "completed"
    },
    "tags": []
   },
   "outputs": [],
   "source": [
    "y_pred_test=lin_reg.predict(x_test)\n",
    "y_pred_train=lin_reg.predict(x_train)"
   ]
  },
  {
   "cell_type": "code",
   "execution_count": 25,
   "id": "d558ac64",
   "metadata": {
    "execution": {
     "iopub.execute_input": "2022-05-23T18:31:46.920189Z",
     "iopub.status.busy": "2022-05-23T18:31:46.919464Z",
     "iopub.status.idle": "2022-05-23T18:31:46.924248Z",
     "shell.execute_reply": "2022-05-23T18:31:46.923373Z"
    },
    "papermill": {
     "duration": 0.069108,
     "end_time": "2022-05-23T18:31:46.926206",
     "exception": false,
     "start_time": "2022-05-23T18:31:46.857098",
     "status": "completed"
    },
    "tags": []
   },
   "outputs": [],
   "source": [
    "train_res=y_train-y_pred_train\n",
    "test_res=y_test-y_pred_test"
   ]
  },
  {
   "cell_type": "code",
   "execution_count": 26,
   "id": "ae72562e",
   "metadata": {
    "execution": {
     "iopub.execute_input": "2022-05-23T18:31:47.032775Z",
     "iopub.status.busy": "2022-05-23T18:31:47.032461Z",
     "iopub.status.idle": "2022-05-23T18:31:47.039484Z",
     "shell.execute_reply": "2022-05-23T18:31:47.038712Z"
    },
    "papermill": {
     "duration": 0.062984,
     "end_time": "2022-05-23T18:31:47.041301",
     "exception": false,
     "start_time": "2022-05-23T18:31:46.978317",
     "status": "completed"
    },
    "tags": []
   },
   "outputs": [
    {
     "data": {
      "text/plain": [
       "498     15256.655849\n",
       "506      5891.593252\n",
       "1019    -6077.087012\n",
       "693       -29.740670\n",
       "209    -13157.434523\n",
       "            ...     \n",
       "153     35649.572030\n",
       "955      8894.515710\n",
       "222     -3827.132393\n",
       "629     -6574.398577\n",
       "828     -9451.001226\n",
       "Name: selling_price, Length: 795, dtype: float64"
      ]
     },
     "execution_count": 26,
     "metadata": {},
     "output_type": "execute_result"
    }
   ],
   "source": [
    "train_res"
   ]
  },
  {
   "cell_type": "code",
   "execution_count": 27,
   "id": "82c49130",
   "metadata": {
    "execution": {
     "iopub.execute_input": "2022-05-23T18:31:47.149417Z",
     "iopub.status.busy": "2022-05-23T18:31:47.148961Z",
     "iopub.status.idle": "2022-05-23T18:31:47.155124Z",
     "shell.execute_reply": "2022-05-23T18:31:47.154294Z"
    },
    "papermill": {
     "duration": 0.063083,
     "end_time": "2022-05-23T18:31:47.156958",
     "exception": false,
     "start_time": "2022-05-23T18:31:47.093875",
     "status": "completed"
    },
    "tags": []
   },
   "outputs": [
    {
     "data": {
      "text/plain": [
       "992     -1693.001527\n",
       "40      60267.201872\n",
       "766    -10607.610000\n",
       "358    -11807.788459\n",
       "143    -42823.337841\n",
       "            ...     \n",
       "182     -3839.822556\n",
       "578     -2851.006291\n",
       "452    -13269.337744\n",
       "1042    -8380.178535\n",
       "798      9831.694512\n",
       "Name: selling_price, Length: 266, dtype: float64"
      ]
     },
     "execution_count": 27,
     "metadata": {},
     "output_type": "execute_result"
    }
   ],
   "source": [
    "test_res"
   ]
  },
  {
   "cell_type": "code",
   "execution_count": 28,
   "id": "d09746dc",
   "metadata": {
    "execution": {
     "iopub.execute_input": "2022-05-23T18:31:47.265898Z",
     "iopub.status.busy": "2022-05-23T18:31:47.265260Z",
     "iopub.status.idle": "2022-05-23T18:31:47.268685Z",
     "shell.execute_reply": "2022-05-23T18:31:47.268115Z"
    },
    "papermill": {
     "duration": 0.060632,
     "end_time": "2022-05-23T18:31:47.270475",
     "exception": false,
     "start_time": "2022-05-23T18:31:47.209843",
     "status": "completed"
    },
    "tags": []
   },
   "outputs": [],
   "source": [
    "from sklearn.metrics import mean_squared_error,mean_absolute_error,r2_score"
   ]
  },
  {
   "cell_type": "code",
   "execution_count": 29,
   "id": "467aac1e",
   "metadata": {
    "execution": {
     "iopub.execute_input": "2022-05-23T18:31:47.378203Z",
     "iopub.status.busy": "2022-05-23T18:31:47.377790Z",
     "iopub.status.idle": "2022-05-23T18:31:47.383036Z",
     "shell.execute_reply": "2022-05-23T18:31:47.382499Z"
    },
    "papermill": {
     "duration": 0.061134,
     "end_time": "2022-05-23T18:31:47.384789",
     "exception": false,
     "start_time": "2022-05-23T18:31:47.323655",
     "status": "completed"
    },
    "tags": []
   },
   "outputs": [
    {
     "data": {
      "text/plain": [
       "1029620900.4090092"
      ]
     },
     "execution_count": 29,
     "metadata": {},
     "output_type": "execute_result"
    }
   ],
   "source": [
    "mse=mean_squared_error(y_test,y_pred_test)\n",
    "mse"
   ]
  },
  {
   "cell_type": "code",
   "execution_count": 30,
   "id": "7b09a95e",
   "metadata": {
    "execution": {
     "iopub.execute_input": "2022-05-23T18:31:47.492845Z",
     "iopub.status.busy": "2022-05-23T18:31:47.492451Z",
     "iopub.status.idle": "2022-05-23T18:31:47.497547Z",
     "shell.execute_reply": "2022-05-23T18:31:47.496886Z"
    },
    "papermill": {
     "duration": 0.061509,
     "end_time": "2022-05-23T18:31:47.499360",
     "exception": false,
     "start_time": "2022-05-23T18:31:47.437851",
     "status": "completed"
    },
    "tags": []
   },
   "outputs": [
    {
     "data": {
      "text/plain": [
       "508412353.3491505"
      ]
     },
     "execution_count": 30,
     "metadata": {},
     "output_type": "execute_result"
    }
   ],
   "source": [
    "mse1=mean_squared_error(y_train,y_pred_train)\n",
    "mse1"
   ]
  },
  {
   "cell_type": "code",
   "execution_count": 31,
   "id": "7d3b5464",
   "metadata": {
    "execution": {
     "iopub.execute_input": "2022-05-23T18:31:47.607551Z",
     "iopub.status.busy": "2022-05-23T18:31:47.607166Z",
     "iopub.status.idle": "2022-05-23T18:31:47.611677Z",
     "shell.execute_reply": "2022-05-23T18:31:47.611139Z"
    },
    "papermill": {
     "duration": 0.060641,
     "end_time": "2022-05-23T18:31:47.613419",
     "exception": false,
     "start_time": "2022-05-23T18:31:47.552778",
     "status": "completed"
    },
    "tags": []
   },
   "outputs": [
    {
     "data": {
      "text/plain": [
       "32087.706375012367"
      ]
     },
     "execution_count": 31,
     "metadata": {},
     "output_type": "execute_result"
    }
   ],
   "source": [
    "rmse=np.sqrt(mse)\n",
    "rmse"
   ]
  },
  {
   "cell_type": "code",
   "execution_count": 32,
   "id": "84ec874d",
   "metadata": {
    "execution": {
     "iopub.execute_input": "2022-05-23T18:31:47.723244Z",
     "iopub.status.busy": "2022-05-23T18:31:47.722825Z",
     "iopub.status.idle": "2022-05-23T18:31:47.727406Z",
     "shell.execute_reply": "2022-05-23T18:31:47.726829Z"
    },
    "papermill": {
     "duration": 0.061691,
     "end_time": "2022-05-23T18:31:47.729141",
     "exception": false,
     "start_time": "2022-05-23T18:31:47.667450",
     "status": "completed"
    },
    "tags": []
   },
   "outputs": [
    {
     "data": {
      "text/plain": [
       "22548.001094313226"
      ]
     },
     "execution_count": 32,
     "metadata": {},
     "output_type": "execute_result"
    }
   ],
   "source": [
    "rmse=np.sqrt(mse1)\n",
    "rmse"
   ]
  },
  {
   "cell_type": "code",
   "execution_count": 33,
   "id": "3973e4bd",
   "metadata": {
    "execution": {
     "iopub.execute_input": "2022-05-23T18:31:47.839560Z",
     "iopub.status.busy": "2022-05-23T18:31:47.839124Z",
     "iopub.status.idle": "2022-05-23T18:31:47.851578Z",
     "shell.execute_reply": "2022-05-23T18:31:47.850514Z"
    },
    "papermill": {
     "duration": 0.071848,
     "end_time": "2022-05-23T18:31:47.855228",
     "exception": false,
     "start_time": "2022-05-23T18:31:47.783380",
     "status": "completed"
    },
    "tags": []
   },
   "outputs": [
    {
     "data": {
      "text/plain": [
       "0.8267322551269888"
      ]
     },
     "execution_count": 33,
     "metadata": {},
     "output_type": "execute_result"
    }
   ],
   "source": [
    "lin_reg.score(x_train,y_train)"
   ]
  },
  {
   "cell_type": "code",
   "execution_count": 34,
   "id": "5d9696d1",
   "metadata": {
    "execution": {
     "iopub.execute_input": "2022-05-23T18:31:48.017062Z",
     "iopub.status.busy": "2022-05-23T18:31:48.016789Z",
     "iopub.status.idle": "2022-05-23T18:31:48.024327Z",
     "shell.execute_reply": "2022-05-23T18:31:48.023574Z"
    },
    "papermill": {
     "duration": 0.069918,
     "end_time": "2022-05-23T18:31:48.026069",
     "exception": false,
     "start_time": "2022-05-23T18:31:47.956151",
     "status": "completed"
    },
    "tags": []
   },
   "outputs": [
    {
     "data": {
      "text/plain": [
       "0.7333163299423429"
      ]
     },
     "execution_count": 34,
     "metadata": {},
     "output_type": "execute_result"
    }
   ],
   "source": [
    "lin_reg.score(x_test,y_test)"
   ]
  },
  {
   "cell_type": "code",
   "execution_count": 35,
   "id": "16a5f088",
   "metadata": {
    "execution": {
     "iopub.execute_input": "2022-05-23T18:31:48.138126Z",
     "iopub.status.busy": "2022-05-23T18:31:48.137600Z",
     "iopub.status.idle": "2022-05-23T18:31:48.326598Z",
     "shell.execute_reply": "2022-05-23T18:31:48.325724Z"
    },
    "papermill": {
     "duration": 0.247973,
     "end_time": "2022-05-23T18:31:48.329463",
     "exception": false,
     "start_time": "2022-05-23T18:31:48.081490",
     "status": "completed"
    },
    "tags": []
   },
   "outputs": [
    {
     "data": {
      "text/plain": [
       "<matplotlib.collections.PathCollection at 0x7f55a2ccc650>"
      ]
     },
     "execution_count": 35,
     "metadata": {},
     "output_type": "execute_result"
    },
    {
     "data": {
      "image/png": "[encoded data removed]",
      "text/plain": [
       "<Figure size 432x288 with 1 Axes>"
      ]
     },
     "metadata": {
      "needs_background": "light"
     },
     "output_type": "display_data"
    }
   ],
   "source": [
    "plt.scatter(y_test,test_res)"
   ]
  },
  {
   "cell_type": "code",
   "execution_count": 36,
   "id": "85ada1e4",
   "metadata": {
    "execution": {
     "iopub.execute_input": "2022-05-23T18:31:48.446169Z",
     "iopub.status.busy": "2022-05-23T18:31:48.445902Z",
     "iopub.status.idle": "2022-05-23T18:31:48.716217Z",
     "shell.execute_reply": "2022-05-23T18:31:48.715382Z"
    },
    "papermill": {
     "duration": 0.330373,
     "end_time": "2022-05-23T18:31:48.718589",
     "exception": false,
     "start_time": "2022-05-23T18:31:48.388216",
     "status": "completed"
    },
    "tags": []
   },
   "outputs": [
    {
     "name": "stderr",
     "output_type": "stream",
     "text": [
      "/opt/conda/lib/python3.7/site-packages/seaborn/distributions.py:2619: FutureWarning: `distplot` is a deprecated function and will be removed in a future version. Please adapt your code to use either `displot` (a figure-level function with similar flexibility) or `histplot` (an axes-level function for histograms).\n",
      "  warnings.warn(msg, FutureWarning)\n"
     ]
    },
    {
     "data": {
      "text/plain": [
       "<AxesSubplot:xlabel='selling_price', ylabel='Density'>"
      ]
     },
     "execution_count": 36,
     "metadata": {},
     "output_type": "execute_result"
    },
    {
     "data": {
      "image/png": "[encoded data removed]",
      "text/plain": [
       "<Figure size 432x288 with 1 Axes>"
      ]
     },
     "metadata": {
      "needs_background": "light"
     },
     "output_type": "display_data"
    }
   ],
   "source": [
    "sns.distplot(test_res,kde=True)"
   ]
  },
  {
   "cell_type": "code",
   "execution_count": 37,
   "id": "6c048441",
   "metadata": {
    "execution": {
     "iopub.execute_input": "2022-05-23T18:31:48.837205Z",
     "iopub.status.busy": "2022-05-23T18:31:48.836303Z",
     "iopub.status.idle": "2022-05-23T18:31:49.011229Z",
     "shell.execute_reply": "2022-05-23T18:31:49.010392Z"
    },
    "papermill": {
     "duration": 0.236636,
     "end_time": "2022-05-23T18:31:49.013201",
     "exception": false,
     "start_time": "2022-05-23T18:31:48.776565",
     "status": "completed"
    },
    "tags": []
   },
   "outputs": [
    {
     "data": {
      "text/plain": [
       "<matplotlib.lines.Line2D at 0x7f55a2bb2910>"
      ]
     },
     "execution_count": 37,
     "metadata": {},
     "output_type": "execute_result"
    },
    {
     "data": {
      "image/png": "[encoded data removed]",
      "text/plain": [
       "<Figure size 432x288 with 1 Axes>"
      ]
     },
     "metadata": {
      "needs_background": "light"
     },
     "output_type": "display_data"
    }
   ],
   "source": [
    "plt.scatter(y_pred_test,test_res,c='r')\n",
    "plt.axhline(y=0,color='blue')"
   ]
  },
  {
   "cell_type": "code",
   "execution_count": 38,
   "id": "c4fee38e",
   "metadata": {
    "execution": {
     "iopub.execute_input": "2022-05-23T18:31:49.133463Z",
     "iopub.status.busy": "2022-05-23T18:31:49.132620Z",
     "iopub.status.idle": "2022-05-23T18:31:49.500653Z",
     "shell.execute_reply": "2022-05-23T18:31:49.499754Z"
    },
    "papermill": {
     "duration": 0.432189,
     "end_time": "2022-05-23T18:31:49.504537",
     "exception": false,
     "start_time": "2022-05-23T18:31:49.072348",
     "status": "completed"
    },
    "tags": []
   },
   "outputs": [
    {
     "data": {
      "text/html": [
       "<table class=\"simpletable\">\n",
       "<caption>OLS Regression Results</caption>\n",
       "<tr>\n",
       "  <th>Dep. Variable:</th>            <td>y</td>        <th>  R-squared:         </th> <td>   0.806</td> \n",
       "</tr>\n",
       "<tr>\n",
       "  <th>Model:</th>                   <td>OLS</td>       <th>  Adj. R-squared:    </th> <td>   0.803</td> \n",
       "</tr>\n",
       "<tr>\n",
       "  <th>Method:</th>             <td>Least Squares</td>  <th>  F-statistic:       </th> <td>   288.9</td> \n",
       "</tr>\n",
       "<tr>\n",
       "  <th>Date:</th>             <td>Mon, 23 May 2022</td> <th>  Prob (F-statistic):</th>  <td>  0.00</td>  \n",
       "</tr>\n",
       "<tr>\n",
       "  <th>Time:</th>                 <td>18:31:49</td>     <th>  Log-Likelihood:    </th> <td> -12242.</td> \n",
       "</tr>\n",
       "<tr>\n",
       "  <th>No. Observations:</th>      <td>  1061</td>      <th>  AIC:               </th> <td>2.452e+04</td>\n",
       "</tr>\n",
       "<tr>\n",
       "  <th>Df Residuals:</th>          <td>  1045</td>      <th>  BIC:               </th> <td>2.459e+04</td>\n",
       "</tr>\n",
       "<tr>\n",
       "  <th>Df Model:</th>              <td>    15</td>      <th>                     </th>     <td> </td>    \n",
       "</tr>\n",
       "<tr>\n",
       "  <th>Covariance Type:</th>      <td>nonrobust</td>    <th>                     </th>     <td> </td>    \n",
       "</tr>\n",
       "</table>\n",
       "<table class=\"simpletable\">\n",
       "<tr>\n",
       "      <td></td>         <th>coef</th>     <th>std err</th>      <th>t</th>      <th>P>|t|</th>  <th>[0.025</th>    <th>0.975]</th>  \n",
       "</tr>\n",
       "<tr>\n",
       "  <th>Intercept</th> <td>-7.707e+06</td> <td> 3.97e+05</td> <td>  -19.416</td> <td> 0.000</td> <td>-8.49e+06</td> <td>-6.93e+06</td>\n",
       "</tr>\n",
       "<tr>\n",
       "  <th>x[0]</th>      <td> 3831.4254</td> <td>  197.189</td> <td>   19.430</td> <td> 0.000</td> <td> 3444.494</td> <td> 4218.357</td>\n",
       "</tr>\n",
       "<tr>\n",
       "  <th>x[1]</th>      <td>   -0.0327</td> <td>    0.016</td> <td>   -2.002</td> <td> 0.046</td> <td>   -0.065</td> <td>   -0.001</td>\n",
       "</tr>\n",
       "<tr>\n",
       "  <th>x[2]</th>      <td>    0.6101</td> <td>    0.014</td> <td>   42.138</td> <td> 0.000</td> <td>    0.582</td> <td>    0.638</td>\n",
       "</tr>\n",
       "<tr>\n",
       "  <th>x[3]</th>      <td>-5570.6329</td> <td> 2454.154</td> <td>   -2.270</td> <td> 0.023</td> <td>-1.04e+04</td> <td> -755.003</td>\n",
       "</tr>\n",
       "<tr>\n",
       "  <th>x[4]</th>      <td> 1.898e+04</td> <td> 7732.377</td> <td>    2.454</td> <td> 0.014</td> <td> 3805.729</td> <td> 3.42e+04</td>\n",
       "</tr>\n",
       "<tr>\n",
       "  <th>x[5]</th>      <td> 3330.5043</td> <td> 1.54e+04</td> <td>    0.217</td> <td> 0.828</td> <td>-2.68e+04</td> <td> 3.35e+04</td>\n",
       "</tr>\n",
       "<tr>\n",
       "  <th>x[6]</th>      <td>-8248.5371</td> <td> 1.03e+04</td> <td>   -0.803</td> <td> 0.422</td> <td>-2.84e+04</td> <td> 1.19e+04</td>\n",
       "</tr>\n",
       "<tr>\n",
       "  <th>x[7]</th>      <td>-5738.4099</td> <td> 2268.725</td> <td>   -2.529</td> <td> 0.012</td> <td>-1.02e+04</td> <td>-1286.634</td>\n",
       "</tr>\n",
       "<tr>\n",
       "  <th>x[8]</th>      <td>-1667.3004</td> <td> 2364.374</td> <td>   -0.705</td> <td> 0.481</td> <td>-6306.761</td> <td> 2972.160</td>\n",
       "</tr>\n",
       "<tr>\n",
       "  <th>x[9]</th>      <td> 7.184e+04</td> <td> 5409.999</td> <td>   13.279</td> <td> 0.000</td> <td> 6.12e+04</td> <td> 8.25e+04</td>\n",
       "</tr>\n",
       "<tr>\n",
       "  <th>x[10]</th>     <td> 1.637e+04</td> <td> 5161.053</td> <td>    3.172</td> <td> 0.002</td> <td> 6241.171</td> <td> 2.65e+04</td>\n",
       "</tr>\n",
       "<tr>\n",
       "  <th>x[11]</th>     <td> 5.424e+04</td> <td> 2922.697</td> <td>   18.557</td> <td> 0.000</td> <td> 4.85e+04</td> <td>    6e+04</td>\n",
       "</tr>\n",
       "<tr>\n",
       "  <th>x[12]</th>     <td> 7669.2477</td> <td> 4847.568</td> <td>    1.582</td> <td> 0.114</td> <td>-1842.829</td> <td> 1.72e+04</td>\n",
       "</tr>\n",
       "<tr>\n",
       "  <th>x[13]</th>     <td> 1287.0333</td> <td> 3395.199</td> <td>    0.379</td> <td> 0.705</td> <td>-5375.151</td> <td> 7949.218</td>\n",
       "</tr>\n",
       "<tr>\n",
       "  <th>x[14]</th>     <td> 4989.1703</td> <td> 2949.105</td> <td>    1.692</td> <td> 0.091</td> <td> -797.671</td> <td> 1.08e+04</td>\n",
       "</tr>\n",
       "</table>\n",
       "<table class=\"simpletable\">\n",
       "<tr>\n",
       "  <th>Omnibus:</th>       <td>723.154</td> <th>  Durbin-Watson:     </th> <td>   1.786</td> \n",
       "</tr>\n",
       "<tr>\n",
       "  <th>Prob(Omnibus):</th> <td> 0.000</td>  <th>  Jarque-Bera (JB):  </th> <td>23087.387</td>\n",
       "</tr>\n",
       "<tr>\n",
       "  <th>Skew:</th>          <td> 2.666</td>  <th>  Prob(JB):          </th> <td>    0.00</td> \n",
       "</tr>\n",
       "<tr>\n",
       "  <th>Kurtosis:</th>      <td>25.222</td>  <th>  Cond. No.          </th> <td>5.71e+07</td> \n",
       "</tr>\n",
       "</table><br/><br/>Notes:<br/>[1] Standard Errors assume that the covariance matrix of the errors is correctly specified.<br/>[2] The condition number is large, 5.71e+07. This might indicate that there are<br/>strong multicollinearity or other numerical problems."
      ],
      "text/plain": [
       "<class 'statsmodels.iolib.summary.Summary'>\n",
       "\"\"\"\n",
       "                            OLS Regression Results                            \n",
       "==============================================================================\n",
       "Dep. Variable:                      y   R-squared:                       0.806\n",
       "Model:                            OLS   Adj. R-squared:                  0.803\n",
       "Method:                 Least Squares   F-statistic:                     288.9\n",
       "Date:                Mon, 23 May 2022   Prob (F-statistic):               0.00\n",
       "Time:                        18:31:49   Log-Likelihood:                -12242.\n",
       "No. Observations:                1061   AIC:                         2.452e+04\n",
       "Df Residuals:                    1045   BIC:                         2.459e+04\n",
       "Df Model:                          15                                         \n",
       "Covariance Type:            nonrobust                                         \n",
       "==============================================================================\n",
       "                 coef    std err          t      P>|t|      [0.025      0.975]\n",
       "------------------------------------------------------------------------------\n",
       "Intercept  -7.707e+06   3.97e+05    -19.416      0.000   -8.49e+06   -6.93e+06\n",
       "x[0]        3831.4254    197.189     19.430      0.000    3444.494    4218.357\n",
       "x[1]          -0.0327      0.016     -2.002      0.046      -0.065      -0.001\n",
       "x[2]           0.6101      0.014     42.138      0.000       0.582       0.638\n",
       "x[3]       -5570.6329   2454.154     -2.270      0.023   -1.04e+04    -755.003\n",
       "x[4]        1.898e+04   7732.377      2.454      0.014    3805.729    3.42e+04\n",
       "x[5]        3330.5043   1.54e+04      0.217      0.828   -2.68e+04    3.35e+04\n",
       "x[6]       -8248.5371   1.03e+04     -0.803      0.422   -2.84e+04    1.19e+04\n",
       "x[7]       -5738.4099   2268.725     -2.529      0.012   -1.02e+04   -1286.634\n",
       "x[8]       -1667.3004   2364.374     -0.705      0.481   -6306.761    2972.160\n",
       "x[9]        7.184e+04   5409.999     13.279      0.000    6.12e+04    8.25e+04\n",
       "x[10]       1.637e+04   5161.053      3.172      0.002    6241.171    2.65e+04\n",
       "x[11]       5.424e+04   2922.697     18.557      0.000    4.85e+04       6e+04\n",
       "x[12]       7669.2477   4847.568      1.582      0.114   -1842.829    1.72e+04\n",
       "x[13]       1287.0333   3395.199      0.379      0.705   -5375.151    7949.218\n",
       "x[14]       4989.1703   2949.105      1.692      0.091    -797.671    1.08e+04\n",
       "==============================================================================\n",
       "Omnibus:                      723.154   Durbin-Watson:                   1.786\n",
       "Prob(Omnibus):                  0.000   Jarque-Bera (JB):            23087.387\n",
       "Skew:                           2.666   Prob(JB):                         0.00\n",
       "Kurtosis:                      25.222   Cond. No.                     5.71e+07\n",
       "==============================================================================\n",
       "\n",
       "Notes:\n",
       "[1] Standard Errors assume that the covariance matrix of the errors is correctly specified.\n",
       "[2] The condition number is large, 5.71e+07. This might indicate that there are\n",
       "strong multicollinearity or other numerical problems.\n",
       "\"\"\""
      ]
     },
     "execution_count": 38,
     "metadata": {},
     "output_type": "execute_result"
    }
   ],
   "source": [
    "import statsmodels.formula.api as smf\n",
    "model1=smf.ols('y~x',data=df).fit()\n",
    "model1.summary()"
   ]
  },
  {
   "cell_type": "code",
   "execution_count": null,
   "id": "756be179",
   "metadata": {
    "papermill": {
     "duration": 0.059555,
     "end_time": "2022-05-23T18:31:49.658741",
     "exception": false,
     "start_time": "2022-05-23T18:31:49.599186",
     "status": "completed"
    },
    "tags": []
   },
   "outputs": [],
   "source": []
  }
 ],
 "metadata": {
  "kernelspec": {
   "display_name": "Python 3",
   "language": "python",
   "name": "python3"
  },
  "language_info": {
   "codemirror_mode": {
    "name": "ipython",
    "version": 3
   },
   "file_extension": ".py",
   "mimetype": "text/x-python",
   "name": "python",
   "nbconvert_exporter": "python",
   "pygments_lexer": "ipython3",
   "version": "3.7.12"
  },
  "papermill": {
   "default_parameters": {},
   "duration": 19.057755,
   "end_time": "2022-05-23T18:31:50.439360",
   "environment_variables": {},
   "exception": null,
   "input_path": "__notebook__.ipynb",
   "output_path": "__notebook__.ipynb",
   "parameters": {},
   "start_time": "2022-05-23T18:31:31.381605",
   "version": "2.3.4"
  }
 },
 "nbformat": 4,
 "nbformat_minor": 5
}
